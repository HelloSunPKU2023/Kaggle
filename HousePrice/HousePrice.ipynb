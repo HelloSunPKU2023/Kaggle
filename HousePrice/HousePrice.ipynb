{
 "cells": [
  {
   "cell_type": "markdown",
   "id": "9466c0b6",
   "metadata": {},
   "source": [
    "# Load Packages"
   ]
  },
  {
   "cell_type": "code",
   "execution_count": null,
   "id": "f55c10ec",
   "metadata": {
    "ExecuteTime": {
     "end_time": "2023-05-25T06:40:06.576144Z",
     "start_time": "2023-05-25T06:40:06.570169Z"
    }
   },
   "outputs": [],
   "source": [
    "import numpy as np\n",
    "import pandas as pd\n",
    "from scipy import stats\n",
    "\n",
    "# visualization\n",
    "import matplotlib.pyplot as plt\n",
    "import seaborn as sns\n",
    "\n",
    "# Preprocessing\n",
    "from sklearn.preprocessing import OneHotEncoder, MinMaxScaler, OrdinalEncoder, StandardScaler, RobustScaler\n",
    "from sklearn.impute import SimpleImputer\n",
    "\n",
    "# Pipeline\n",
    "from sklearn.pipeline import Pipeline, make_pipeline\n",
    "from sklearn.compose import ColumnTransformer, make_column_transformer\n",
    "\n",
    "# Model\n",
    "from sklearn.model_selection import train_test_split\n",
    "from sklearn.model_selection import cross_val_score, cross_validate\n",
    "from sklearn.model_selection import GridSearchCV, RandomizedSearchCV\n",
    "\n",
    "from sklearn.linear_model import Ridge, Lasso, LinearRegression,LogisticRegression\n",
    "from sklearn.neighbors import KNeighborsClassifier\n",
    "from sklearn.neighbors import KNeighborsRegressor\n",
    "from sklearn.svm import SVC, SVR\n",
    "from sklearn.tree import DecisionTreeRegressor\n",
    "from sklearn.ensemble import RandomForestRegressor\n",
    "from sklearn.decomposition import PCA\n",
    "from sklearn.cluster import KMeans\n",
    "\n",
    "from sklearn import set_config\n",
    "# set_config(display='diagram')\n",
    "\n",
    "import warnings\n",
    "# warnings.filterwarnings('ignore')"
   ]
  },
  {
   "cell_type": "markdown",
   "id": "ec0cfa2f",
   "metadata": {},
   "source": [
    "# Load Data"
   ]
  },
  {
   "cell_type": "markdown",
   "id": "defff1d2",
   "metadata": {
    "ExecuteTime": {
     "end_time": "2023-05-25T01:24:30.084743Z",
     "start_time": "2023-05-25T01:24:30.080047Z"
    }
   },
   "source": [
    "<img src=\"https://storage.googleapis.com/kaggle-competitions/kaggle/5407/media/housesbanner.png\" width=600>"
   ]
  },
  {
   "cell_type": "markdown",
   "id": "9fc1221a",
   "metadata": {
    "ExecuteTime": {
     "end_time": "2023-05-24T06:01:25.611302Z",
     "start_time": "2023-05-24T06:01:25.608291Z"
    }
   },
   "source": [
    "## Load RAW data"
   ]
  },
  {
   "cell_type": "code",
   "execution_count": null,
   "id": "b8f988b8",
   "metadata": {
    "ExecuteTime": {
     "end_time": "2023-05-25T02:30:37.058561Z",
     "start_time": "2023-05-25T02:30:37.020871Z"
    }
   },
   "outputs": [],
   "source": [
    "# set data source\n",
    "data_url = 'data/train.csv'\n",
    "\n",
    "# set index column\n",
    "index_col = 'Id'\n",
    "\n",
    "# load data\n",
    "data = pd.read_csv(data_url, index_col=index_col)\n",
    "data.head(5)"
   ]
  },
  {
   "cell_type": "markdown",
   "id": "269d65ba",
   "metadata": {},
   "source": [
    "## Feature-Target split"
   ]
  },
  {
   "cell_type": "code",
   "execution_count": null,
   "id": "0ec46b23",
   "metadata": {
    "ExecuteTime": {
     "end_time": "2023-05-25T05:28:32.105787Z",
     "start_time": "2023-05-25T05:28:32.099522Z"
    }
   },
   "outputs": [],
   "source": [
    "# define the target column in the train dataset\n",
    "target = 'SalePrice'\n",
    "\n",
    "# split columns into X and y\n",
    "X = data.drop(columns = target).copy()\n",
    "y = data[target]\n",
    "\n",
    "# check the shape of the data\n",
    "print(f'shape of X is \\033[94m{X.shape}\\033[0m, shape of y is \\033[94m{y.shape}\\033[0m')"
   ]
  },
  {
   "cell_type": "markdown",
   "id": "16fb3079",
   "metadata": {
    "ExecuteTime": {
     "end_time": "2023-05-24T06:07:23.217559Z",
     "start_time": "2023-05-24T06:07:23.214704Z"
    }
   },
   "source": [
    "## Missing Values"
   ]
  },
  {
   "cell_type": "markdown",
   "id": "d4c1835c",
   "metadata": {},
   "source": [
    "> Data Readme\n",
    "https://www.kaggle.com/competitions/house-prices-advanced-regression-techniques/data"
   ]
  },
  {
   "cell_type": "code",
   "execution_count": null,
   "id": "cad36ef3",
   "metadata": {
    "ExecuteTime": {
     "end_time": "2023-05-25T05:28:34.208680Z",
     "start_time": "2023-05-25T05:28:33.991378Z"
    },
    "scrolled": false
   },
   "outputs": [],
   "source": [
    "#filter all the features with missing values\n",
    "feature_null= X.isnull().mean().sort_values(ascending = False)\n",
    "feature_null=feature_null[feature_null>0]\n",
    "\n",
    "# visualize\n",
    "plt.figure(figsize=(8, feature_null.shape[0]/4))\n",
    "feature_ranks = range(len(feature_null))\n",
    "bar = plt.barh(feature_null.index, feature_null.values, label=[str(x) for x in feature_ranks])\n",
    "plt.gca().invert_yaxis()\n",
    "plt.xlabel('%')\n",
    "plt.title(\"Percentage (%) of missing values\")\n",
    "plt.tight_layout()\n",
    "plt.grid(axis='x')\n",
    "plt.show()"
   ]
  },
  {
   "cell_type": "markdown",
   "id": "90bc8404",
   "metadata": {
    "ExecuteTime": {
     "end_time": "2023-05-24T06:02:58.238855Z",
     "start_time": "2023-05-24T06:02:58.236116Z"
    }
   },
   "source": [
    "## Feature Screening"
   ]
  },
  {
   "cell_type": "code",
   "execution_count": null,
   "id": "2d330426",
   "metadata": {
    "ExecuteTime": {
     "end_time": "2023-05-25T06:06:18.795280Z",
     "start_time": "2023-05-25T06:06:18.783812Z"
    },
    "scrolled": false
   },
   "outputs": [],
   "source": [
    "X = data.drop(columns = target).copy()\n",
    "features_all = X.columns.sort_values().to_list()\n",
    "\n",
    "columns_to_drop = [\n",
    "    #to many missing values\n",
    "    'PoolQC', 'MiscFeature', 'Alley', 'Fence', \n",
    "    #\n",
    "    'BsmtFinSF2', 'LowQualFinSF', 'EnclosedPorch', '3SsnPorch', 'ScreenPorch', \n",
    "    'PoolArea', 'MiscVal', 'BsmtHalfBath', \n",
    "    'Condition2', 'RoofMatl', 'Heating', 'KitchenAbvGr',\n",
    "    'Neighborhood', 'Exterior2nd', 'Exterior1st',\n",
    "    'Condition1', 'SaleType',\n",
    "    'Street', 'Utilities',\n",
    "    'BldgType', 'BsmtExposure', 'BsmtFinType2', 'CentralAir', \n",
    "    'Electrical', 'Functional', 'LandContour', 'LandSlope', \n",
    "    'LotConfig', 'MSZoning', 'PavedDrive', \n",
    "    'GarageCond', 'GarageQual'\n",
    "]\n",
    "# columns_to_drop = []\n",
    "X = X.drop(columns=columns_to_drop)\n",
    "\n",
    "feature_numerical = X.select_dtypes(exclude='object').columns.sort_values().to_list()\n",
    "\n",
    "feature_categorical = X.select_dtypes(include='object').columns.sort_values().to_list()\n",
    "\n",
    "feature_categorical_Ordinal = [\n",
    "    'ExterQual', 'ExterCond', 'BsmtQual', 'BsmtCond',\n",
    "    'FireplaceQu', 'HeatingQC', 'KitchenQual'\n",
    "]\n",
    "feature_categorical_Ordinal.sort()\n",
    "# feature_categorical_Ordinal=[]\n",
    "\n",
    "feature_categorical_OneHot = [key for key in feature_categorical \n",
    "                              if key not in feature_categorical_Ordinal]\n",
    "\n",
    "print(f'All features (\\033[95m{len(features_all)}\\\n",
    "\\033[0m): \\033[94m{features_all}\\033[0m')\n",
    "\n",
    "print(f'Features to drop (\\033[91m{len(columns_to_drop)}\\\n",
    "\\033[0m): \\033[94m{columns_to_drop}\\033[0m')\n",
    "\n",
    "print(f'Categorical cat features (\\033[95m{len(feature_categorical)}\\\n",
    "\\033[0m): \\033[94m{feature_categorical}\\033[0m')\n",
    "\n",
    "print(f'Ordinal cat features (\\036[95m{len(feature_categorical_Ordinal)}\\\n",
    "\\033[0m): \\033[94m{feature_categorical_Ordinal}\\033[0m')\n",
    "\n",
    "print(f'None-ordinal cat features (\\033[95m{len(feature_categorical_OneHot)}\\\n",
    "\\033[0m): \\033[94m{feature_categorical_OneHot}\\033[0m')\n",
    "\n",
    "print(f'Numercial features (\\033[95m{len(feature_numerical)}\\\n",
    "\\033[0m): \\033[94m{feature_numerical}\\033[0m')"
   ]
  },
  {
   "cell_type": "markdown",
   "id": "92d3009a",
   "metadata": {},
   "source": [
    "# Data Exploration"
   ]
  },
  {
   "cell_type": "markdown",
   "id": "5c56c619",
   "metadata": {},
   "source": [
    "## Distribution of each numerical feature"
   ]
  },
  {
   "cell_type": "code",
   "execution_count": null,
   "id": "8d3a1798",
   "metadata": {
    "ExecuteTime": {
     "end_time": "2023-05-25T05:29:42.763312Z",
     "start_time": "2023-05-25T05:29:38.680755Z"
    },
    "scrolled": true
   },
   "outputs": [],
   "source": [
    "print(f'Numercial features (\\033[94m{len(feature_numerical)}\\\n",
    "\\033[0m): \\033[94m{feature_numerical}\\033[0m')\n",
    "\n",
    "X[feature_numerical].hist(\n",
    "    figsize=(16, 20), \n",
    "    bins=50, \n",
    "    xlabelsize=8, \n",
    "    ylabelsize=8);"
   ]
  },
  {
   "cell_type": "code",
   "execution_count": null,
   "id": "bf9d00ec",
   "metadata": {
    "ExecuteTime": {
     "end_time": "2023-05-25T06:37:04.191530Z",
     "start_time": "2023-05-25T06:37:03.801132Z"
    },
    "scrolled": true
   },
   "outputs": [],
   "source": [
    "X_num = X[feature_numerical].dropna()\n",
    "\n",
    "sns.heatmap(X_num.corr(), cmap='PuRd')\n",
    "pca = PCA()\n",
    "X_scaled = StandardScaler().fit_transform(X_num)\n",
    "X_pca = pca.fit_transform(X_scaled)"
   ]
  },
  {
   "cell_type": "code",
   "execution_count": null,
   "id": "d87afe78",
   "metadata": {
    "ExecuteTime": {
     "end_time": "2023-05-25T06:37:23.305554Z",
     "start_time": "2023-05-25T06:37:23.004026Z"
    }
   },
   "outputs": [],
   "source": [
    "with plt.style.context('seaborn-deep'):\n",
    "    \n",
    "    # figsize\n",
    "    plt.figure(figsize=(10,6))\n",
    "    \n",
    "    # getting axes\n",
    "    ax = plt.gca()\n",
    "    \n",
    "    # plotting\n",
    "    evr_cumulated = np.cumsum(pca.explained_variance_ratio_)\n",
    "    x_axis_ticks = np.arange(1,evr_cumulated.shape[0]+1)\n",
    "    ax.plot(x_axis_ticks,evr_cumulated,label=\"cumulated variance ratio\",color=\"purple\",linestyle=\":\",marker=\"D\",markersize=10)\n",
    "    \n",
    "    \n",
    "    # customizing\n",
    "    ax.set_xlabel('Number of Principal Components')\n",
    "    ax.set_ylabel('% cumulated explained variance')\n",
    "    ax.legend(loc=\"upper left\")\n",
    "    ax.set_title('The Elbow Method')\n",
    "    ax.set_xticks(x_axis_ticks)\n",
    "    ax.scatter(4,evr_cumulated[4-1],c='blue',s=400)\n",
    "    ax.scatter(5,evr_cumulated[5-1],c='blue',s=400)\n",
    "    ax.scatter(6,evr_cumulated[6-1],c='blue',s=400)\n",
    "    ax.grid(axis=\"x\",linewidth=0.5)\n",
    "    ax.grid(axis=\"y\",linewidth=0.5)"
   ]
  },
  {
   "cell_type": "markdown",
   "id": "46e4e86a",
   "metadata": {},
   "source": [
    "## Distribution of each catigorical feature"
   ]
  },
  {
   "cell_type": "code",
   "execution_count": null,
   "id": "df036e03",
   "metadata": {
    "ExecuteTime": {
     "end_time": "2023-05-25T06:06:28.554748Z",
     "start_time": "2023-05-25T06:06:26.747744Z"
    },
    "scrolled": false
   },
   "outputs": [],
   "source": [
    "plot_list=feature_categorical\n",
    "\n",
    "print(f'Categorical cat features (\\033[94m{len(plot_list)}\\\n",
    "\\033[0m): \\033[94m{plot_list}\\033[0m')\n",
    "\n",
    "# Assuming 'X' is your DataFrame\n",
    "num_cols = 5  # Number of columns in the grid\n",
    "num_rows = (len(plot_list) - 1) // num_cols + 1  # Number of rows in the grid\n",
    "\n",
    "fig, axes = plt.subplots(num_rows, num_cols, figsize=(4*num_cols, 4*num_rows))\n",
    "\n",
    "# Plot each categorical feature\n",
    "for i, feature in enumerate(plot_list):\n",
    "    ax = axes[i // num_cols, i % num_cols] if num_rows > 1 else axes[i % num_cols]\n",
    "    sns.histplot(data=X, x=feature, kde=False, ax=ax)\n",
    "\n",
    "# Hide unused subplots\n",
    "if len(plot_list) < num_rows * num_cols:\n",
    "    for j in range(len(plot_list), num_rows * num_cols):\n",
    "        axes[j // num_cols, j % num_cols].axis('off')\n",
    "\n",
    "plt.tight_layout()\n",
    "plt.show()"
   ]
  },
  {
   "cell_type": "markdown",
   "id": "34163fb2",
   "metadata": {},
   "source": [
    "## Distribution of each catigorical Ordinal feature"
   ]
  },
  {
   "cell_type": "code",
   "execution_count": null,
   "id": "c97edd89",
   "metadata": {
    "ExecuteTime": {
     "end_time": "2023-05-25T06:06:32.037465Z",
     "start_time": "2023-05-25T06:06:30.731543Z"
    },
    "scrolled": false
   },
   "outputs": [],
   "source": [
    "plot_list = feature_categorical_Ordinal\n",
    "\n",
    "print(f'Categorical cat features (\\033[94m{len(plot_list)}\\\n",
    "\\033[0m): \\033[94m{plot_list}\\033[0m')\n",
    "\n",
    "if len(plot_list)>0:\n",
    "    # Assuming 'X' is your DataFrame\n",
    "    num_cols = 4  # Number of columns in the grid\n",
    "    num_rows = (len(plot_list) - 1) // num_cols + 1  # Number of rows in the grid\n",
    "\n",
    "    fig, axes = plt.subplots(num_rows, num_cols, figsize=(4*num_cols, 4*num_rows))\n",
    "\n",
    "    # Plot each categorical feature\n",
    "    for i, feature in enumerate(plot_list):\n",
    "        ax = axes[i // num_cols, i % num_cols] if num_rows > 1 else axes[i % num_cols]\n",
    "        sns.histplot(data=X, x=feature, kde=False, ax=ax)\n",
    "\n",
    "    # Hide unused subplots\n",
    "    if len(plot_list) < num_rows * num_cols:\n",
    "        for j in range(len(plot_list), num_rows * num_cols):\n",
    "            axes[j // num_cols, j % num_cols].axis('off')\n",
    "\n",
    "    plt.tight_layout()\n",
    "    plt.show()"
   ]
  },
  {
   "cell_type": "code",
   "execution_count": null,
   "id": "78b56eba",
   "metadata": {
    "ExecuteTime": {
     "end_time": "2023-05-25T06:06:34.967234Z",
     "start_time": "2023-05-25T06:06:34.961954Z"
    }
   },
   "outputs": [],
   "source": [
    "feat_ordinal_dict = {\n",
    "    # considers \"missing\" as the worse category\n",
    "    \"BsmtCond\": ['missing', 'Po', 'Fa', 'TA', 'Gd'],\n",
    "#     \"BsmtExposure\": ['missing', 'No', 'Mn', 'Av', 'Gd'],\n",
    "#     \"BsmtFinType1\": ['missing', 'Unf', 'LwQ', 'Rec', 'BLQ', 'ALQ', 'GLQ'],\n",
    "#     \"BsmtFinType2\": ['missing', 'Unf', 'LwQ', 'Rec', 'BLQ', 'ALQ', 'GLQ'],\n",
    "    \"BsmtQual\": ['missing', 'Fa', 'TA', 'Gd', 'Ex'],\n",
    "#     \"Electrical\": ['missing', 'Mix', 'FuseP', 'FuseF', 'FuseA', 'SBrkr'],\n",
    "    \"ExterCond\": ['missing', 'Po', 'Fa', 'TA', 'Gd', 'Ex'],\n",
    "    \"ExterQual\": ['missing', 'Fa', 'TA', 'Gd', 'Ex'],\n",
    "#     \"Fence\": ['missing', 'MnWw', 'GdWo', 'MnPrv', 'GdPrv'],\n",
    "    \"FireplaceQu\": ['missing', 'Po', 'Fa', 'TA', 'Gd', 'Ex'],\n",
    "#     \"Functional\": ['missing', 'Sev', 'Maj2', 'Maj1', 'Mod', 'Min2', 'Min1', 'Typ'],\n",
    "#     \"GarageCond\": ['missing', 'Po', 'Fa', 'TA', 'Gd', 'Ex'],\n",
    "#     \"GarageFinish\": ['missing', 'Unf', 'RFn', 'Fin'],\n",
    "#     \"GarageQual\": ['missing', 'Po', 'Fa', 'TA', 'Gd', 'Ex'],\n",
    "    \"HeatingQC\": ['missing', 'Po', 'Fa', 'TA', 'Gd', 'Ex'],\n",
    "    \"KitchenQual\": ['missing', 'Fa', 'TA', 'Gd', 'Ex']\n",
    "#     \"LandContour\": ['missing', 'Low', 'Bnk', 'HLS', 'Lvl'],\n",
    "#     \"LandSlope\": ['missing', 'Sev', 'Mod', 'Gtl'],\n",
    "#     \"LotShape\": ['missing', 'IR3', 'IR2', 'IR1', 'Reg'],\n",
    "#     \"PavedDrive\": ['missing', 'N', 'P', 'Y'],\n",
    "#     \"PoolQC\": ['missing', 'Fa', 'Gd', 'Ex'],\n",
    "}\n",
    "\n",
    "\n",
    "ordinal_features = list(feat_ordinal_dict.keys())\n",
    "ordinal_values = list(feat_ordinal_dict.values())"
   ]
  },
  {
   "cell_type": "markdown",
   "id": "f3992f36",
   "metadata": {
    "heading_collapsed": true
   },
   "source": [
    "## Distribution of each catigorical OneHot feature"
   ]
  },
  {
   "cell_type": "code",
   "execution_count": null,
   "id": "b0027750",
   "metadata": {
    "ExecuteTime": {
     "end_time": "2023-05-25T05:45:05.192356Z",
     "start_time": "2023-05-25T05:45:04.981340Z"
    },
    "hidden": true,
    "scrolled": true
   },
   "outputs": [],
   "source": [
    "# list the number of categories of each OneHot feature\n",
    "feature_cat_value_count= X[feature_categorical_OneHot].nunique().sort_values(ascending=False)\n",
    "feature_cat_value_count=feature_cat_value_count[feature_cat_value_count>0]\n",
    "\n",
    "# visualize\n",
    "plt.figure(figsize=(8, feature_cat_value_count.shape[0]/4))\n",
    "feature_ranks = range(len(feature_null))\n",
    "bar = plt.barh(feature_cat_value_count.index, feature_cat_value_count.values, label=[str(x) for x in feature_ranks])\n",
    "plt.gca().invert_yaxis()\n",
    "plt.xlabel('%')\n",
    "plt.title(\"Number of unique categories\")\n",
    "plt.tight_layout()\n",
    "plt.grid(axis='x')\n",
    "plt.show()"
   ]
  },
  {
   "cell_type": "code",
   "execution_count": null,
   "id": "165f8296",
   "metadata": {
    "ExecuteTime": {
     "end_time": "2023-05-25T05:45:24.199153Z",
     "start_time": "2023-05-25T05:45:23.294085Z"
    },
    "hidden": true
   },
   "outputs": [],
   "source": [
    "plot_list=feature_categorical_OneHot\n",
    "\n",
    "print(f'Categorical cat features (\\033[94m{len(plot_list)}\\\n",
    "\\033[0m): \\033[94m{plot_list}\\033[0m')\n",
    "\n",
    "if len(plot_list)>0:\n",
    "    # Assuming 'X' is your DataFrame\n",
    "    num_cols = 4  # Number of columns in the grid\n",
    "    num_rows = (len(plot_list) - 1) // num_cols + 1  # Number of rows in the grid\n",
    "\n",
    "    fig, axes = plt.subplots(num_rows, num_cols, figsize=(3*num_cols, 2*num_rows))\n",
    "\n",
    "    # Plot each categorical feature\n",
    "    for i, feature in enumerate(plot_list):\n",
    "        ax = axes[i // num_cols, i % num_cols] if num_rows > 1 else axes[i % num_cols]\n",
    "        sns.histplot(data=X, x=feature, kde=False, ax=ax)\n",
    "\n",
    "    # Hide unused subplots\n",
    "    if len(plot_list) < num_rows * num_cols:\n",
    "        for j in range(len(plot_list), num_rows * num_cols):\n",
    "            axes[j // num_cols, j % num_cols].axis('off')\n",
    "\n",
    "    plt.tight_layout()\n",
    "    plt.show()"
   ]
  },
  {
   "cell_type": "markdown",
   "id": "bfffd311",
   "metadata": {},
   "source": [
    "# Data Preprocessing"
   ]
  },
  {
   "cell_type": "code",
   "execution_count": null,
   "id": "0e2d6bf9",
   "metadata": {
    "ExecuteTime": {
     "end_time": "2023-05-25T06:50:31.131402Z",
     "start_time": "2023-05-25T06:50:31.021676Z"
    }
   },
   "outputs": [],
   "source": [
    "#transformer for numerical data\n",
    "preproc_num = make_pipeline(\n",
    "    SimpleImputer(strategy='mean'),\n",
    "#     RobustScaler()\n",
    "    StandardScaler(),\n",
    "    PCA(n_components=20)\n",
    ")\n",
    "\n",
    "preproc_cat_ordinal = make_pipeline(\n",
    "    SimpleImputer(strategy='constant', fill_value='Missing'),\n",
    "    OrdinalEncoder(\n",
    "        categories=ordinal_values,\n",
    "        dtype=np.int64,\n",
    "        handle_unknown=\"use_encoded_value\",\n",
    "        unknown_value=-1),\n",
    "    MinMaxScaler()\n",
    ")\n",
    "\n",
    "preproc_cat_onehot = make_pipeline(\n",
    "    SimpleImputer(strategy='constant', fill_value='missing'),\n",
    "    OneHotEncoder(\n",
    "        drop = 'if_binary',\n",
    "        sparse_output=False,\n",
    "        handle_unknown='ignore')\n",
    ")\n",
    "\n",
    "preproc_pipeline = ColumnTransformer([\n",
    "    ('ordinal processor', preproc_cat_ordinal, feature_categorical_Ordinal),\n",
    "    ('numerical processor', preproc_num, feature_numerical),\n",
    "    ('categorical processor', preproc_cat_onehot, feature_categorical_OneHot),\n",
    "#     remainder='passthrough'\n",
    "])\n",
    "\n",
    "\n",
    "preproc_pipeline.fit(X)"
   ]
  },
  {
   "cell_type": "markdown",
   "id": "eef9ec6f",
   "metadata": {},
   "source": [
    "# Model"
   ]
  },
  {
   "cell_type": "markdown",
   "id": "6e2f1399",
   "metadata": {
    "heading_collapsed": true
   },
   "source": [
    "## Custom Loss Function"
   ]
  },
  {
   "cell_type": "code",
   "execution_count": null,
   "id": "992ef026",
   "metadata": {
    "ExecuteTime": {
     "end_time": "2023-05-25T03:57:45.154852Z",
     "start_time": "2023-05-25T03:57:45.150488Z"
    },
    "hidden": true
   },
   "outputs": [],
   "source": [
    "def my_rmsle_neg(y_true, y_pred):\n",
    "    result = -(np.mean((np.log(y_true+1)-np.log(y_pred+1))**2))**0.5\n",
    "    return result \n",
    "\n",
    "from sklearn.metrics import make_scorer\n",
    "rmsle_neg = make_scorer(my_rmsle_neg)"
   ]
  },
  {
   "cell_type": "markdown",
   "id": "8b042141",
   "metadata": {
    "ExecuteTime": {
     "end_time": "2023-05-24T01:44:31.104233Z",
     "start_time": "2023-05-24T01:44:31.100992Z"
    }
   },
   "source": [
    "## Cross Validation"
   ]
  },
  {
   "cell_type": "code",
   "execution_count": null,
   "id": "6c4504dc",
   "metadata": {
    "ExecuteTime": {
     "end_time": "2023-05-25T06:50:37.509125Z",
     "start_time": "2023-05-25T06:50:35.228878Z"
    },
    "scrolled": true
   },
   "outputs": [],
   "source": [
    "# cv_model = KNeighborsClassifier() #Baseline score: -0.3278517946119624\n",
    "# cv_model = SVC() #Baseline score: -0.3369862693961591 \n",
    "# cv_model = SVC(kernel='poly') #Baseline score: -0.2761102147519752 \n",
    "# cv_model = SVC(kernel='linear') #Baseline score: -0.24822940772121438 \n",
    "# cv_model = DecisionTreeRegressor(max_depth=6) # Baseline score: -0.20116124161062304\n",
    "# cv_model = LinearRegression() #Baseline score: -0.17873011648173293 \n",
    "# cv_model = LogisticRegression(max_iter=2000) #Baseline score: -0.2522674044146145 \n",
    "cv_model = RandomForestRegressor() # Baseline score: -0.1470104740488312\n",
    "cv_baseline = make_pipeline(\n",
    "    preproc_pipeline,\n",
    "    cv_model\n",
    ")\n",
    "\n",
    "cv_result = cross_val_score(\n",
    "    cv_baseline,\n",
    "    X, \n",
    "    y, \n",
    "    cv=5,\n",
    "    scoring=rmsle_neg,\n",
    "    n_jobs=-1)\n",
    "score_baseline=np.mean(cv_result)\n",
    "print(f'Baseline score: \\033[94m{score_baseline}\\033[0m \\nof \\033[94m{type(cv_model)}\\033[0m model ')"
   ]
  },
  {
   "cell_type": "markdown",
   "id": "ac8a2beb",
   "metadata": {},
   "source": [
    "## Grid/Random Search"
   ]
  },
  {
   "cell_type": "markdown",
   "id": "38f1b8bc",
   "metadata": {
    "ExecuteTime": {
     "end_time": "2023-05-24T02:08:25.822466Z",
     "start_time": "2023-05-24T02:08:25.819259Z"
    },
    "heading_collapsed": true
   },
   "source": [
    "### KNN"
   ]
  },
  {
   "cell_type": "code",
   "execution_count": null,
   "id": "90adfc3e",
   "metadata": {
    "ExecuteTime": {
     "end_time": "2023-05-24T03:26:15.683143Z",
     "start_time": "2023-05-24T03:26:13.935025Z"
    },
    "hidden": true,
    "scrolled": true
   },
   "outputs": [],
   "source": [
    "knn_pipeline = make_pipeline(\n",
    "    preproc_pipeline, \n",
    "    KNeighborsRegressor()\n",
    ")\n",
    "\n",
    "knn_param_grid={\n",
    "    '__n_neighbors': list(range(1,20,1))\n",
    "}\n",
    "knn_search = GridSearchCV(knn_pipeline, \n",
    "                      knn_param_grid, \n",
    "                      cv=5, \n",
    "                      scoring='r2', \n",
    "                      n_jobs=-1)\n",
    "knn_search.fit(X, y)"
   ]
  },
  {
   "cell_type": "code",
   "execution_count": null,
   "id": "7e6ee6f9",
   "metadata": {
    "ExecuteTime": {
     "end_time": "2023-05-24T02:08:13.137643Z",
     "start_time": "2023-05-24T02:08:13.118713Z"
    },
    "hidden": true
   },
   "outputs": [],
   "source": [
    "knn_best_model = knn_search.best_estimator_\n",
    "print(knn_search.best_score_)\n",
    "print(knn_search.best_params_)"
   ]
  },
  {
   "cell_type": "markdown",
   "id": "455db35a",
   "metadata": {},
   "source": [
    "### Random Foreast"
   ]
  },
  {
   "cell_type": "code",
   "execution_count": null,
   "id": "958c9977",
   "metadata": {
    "ExecuteTime": {
     "end_time": "2023-05-25T06:50:41.505610Z",
     "start_time": "2023-05-25T06:50:41.372743Z"
    },
    "scrolled": true
   },
   "outputs": [],
   "source": [
    "rf_pipeline = Pipeline([\n",
    "    ('preprocessing', preproc_pipeline),\n",
    "    ('modelling', RandomForestRegressor(n_jobs=-1))\n",
    "])\n",
    "\n",
    "rf_pipeline"
   ]
  },
  {
   "cell_type": "code",
   "execution_count": null,
   "id": "b888aeb9",
   "metadata": {
    "ExecuteTime": {
     "end_time": "2023-05-25T06:51:04.703620Z",
     "start_time": "2023-05-25T06:50:43.374895Z"
    },
    "scrolled": false
   },
   "outputs": [],
   "source": [
    "from sklearn.model_selection import RandomizedSearchCV\n",
    "from scipy.stats import randint\n",
    "# Random search \n",
    "rf_random_search = RandomizedSearchCV(\n",
    "    rf_pipeline, \n",
    "    param_distributions ={\n",
    "        'modelling__max_depth': randint(15,30),\n",
    "        'modelling__min_samples_split' : randint(2,5)},\n",
    "    cv=5,\n",
    "    n_iter = 10,\n",
    "    scoring=rmsle_neg,\n",
    "    n_jobs=-1\n",
    "    )\n",
    "\n",
    "rf_random_search.fit(X,y)\n",
    "\n",
    "rf_tuned_pipe = rf_random_search.best_estimator_"
   ]
  },
  {
   "cell_type": "code",
   "execution_count": null,
   "id": "c69c4ac9",
   "metadata": {
    "ExecuteTime": {
     "end_time": "2023-05-25T06:50:13.521898Z",
     "start_time": "2023-05-25T06:50:13.516725Z"
    }
   },
   "outputs": [],
   "source": [
    "rf_random_search.best_score_"
   ]
  },
  {
   "cell_type": "markdown",
   "id": "5393935e",
   "metadata": {},
   "source": [
    "### SVM"
   ]
  },
  {
   "cell_type": "code",
   "execution_count": null,
   "id": "d584d535",
   "metadata": {},
   "outputs": [],
   "source": []
  },
  {
   "cell_type": "code",
   "execution_count": null,
   "id": "d18d39fb",
   "metadata": {},
   "outputs": [],
   "source": []
  }
 ],
 "metadata": {
  "kernelspec": {
   "display_name": "Python 3 (ipykernel)",
   "language": "python",
   "name": "python3"
  },
  "language_info": {
   "codemirror_mode": {
    "name": "ipython",
    "version": 3
   },
   "file_extension": ".py",
   "mimetype": "text/x-python",
   "name": "python",
   "nbconvert_exporter": "python",
   "pygments_lexer": "ipython3",
   "version": "3.10.6"
  },
  "toc": {
   "base_numbering": 1,
   "nav_menu": {},
   "number_sections": true,
   "sideBar": true,
   "skip_h1_title": false,
   "title_cell": "Table of Contents",
   "title_sidebar": "Contents",
   "toc_cell": false,
   "toc_position": {
    "height": "calc(100% - 180px)",
    "left": "10px",
    "top": "150px",
    "width": "287.797px"
   },
   "toc_section_display": true,
   "toc_window_display": true
  }
 },
 "nbformat": 4,
 "nbformat_minor": 5
}
