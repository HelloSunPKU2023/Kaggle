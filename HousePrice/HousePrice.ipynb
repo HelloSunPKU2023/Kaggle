{
 "cells": [
  {
   "cell_type": "markdown",
   "id": "9466c0b6",
   "metadata": {},
   "source": [
    "# Load Packages"
   ]
  },
  {
   "cell_type": "code",
   "execution_count": 1,
   "id": "f55c10ec",
   "metadata": {
    "ExecuteTime": {
     "end_time": "2023-05-25T01:28:49.668072Z",
     "start_time": "2023-05-25T01:28:47.644756Z"
    }
   },
   "outputs": [],
   "source": [
    "import numpy as np\n",
    "import pandas as pd\n",
    "from scipy import stats\n",
    "\n",
    "# visualization\n",
    "import matplotlib.pyplot as plt\n",
    "import seaborn as sns\n",
    "\n",
    "# Preprocessing\n",
    "from sklearn.preprocessing import OneHotEncoder, MinMaxScaler, OrdinalEncoder\n",
    "from sklearn.impute import SimpleImputer\n",
    "\n",
    "# Pipeline\n",
    "from sklearn.pipeline import Pipeline, make_pipeline\n",
    "from sklearn.compose import ColumnTransformer, make_column_transformer\n",
    "\n",
    "# Model\n",
    "from sklearn.model_selection import train_test_split\n",
    "from sklearn.model_selection import cross_val_score, cross_validate\n",
    "from sklearn.model_selection import GridSearchCV, RandomizedSearchCV\n",
    "\n",
    "from sklearn.linear_model import Ridge, Lasso, LinearRegression,LogisticRegression\n",
    "from sklearn.neighbors import KNeighborsClassifier\n",
    "from sklearn.neighbors import KNeighborsRegressor\n",
    "from sklearn.svm import SVC, SVR\n",
    "from sklearn.tree import DecisionTreeRegressor\n",
    "\n",
    "from sklearn import set_config\n",
    "# set_config(display='diagram')\n",
    "\n",
    "import warnings\n",
    "# warnings.filterwarnings('ignore')"
   ]
  },
  {
   "cell_type": "markdown",
   "id": "ec0cfa2f",
   "metadata": {},
   "source": [
    "# Load Data"
   ]
  },
  {
   "cell_type": "markdown",
   "id": "defff1d2",
   "metadata": {
    "ExecuteTime": {
     "end_time": "2023-05-25T01:24:30.084743Z",
     "start_time": "2023-05-25T01:24:30.080047Z"
    }
   },
   "source": [
    "<img src=\"https://storage.googleapis.com/kaggle-competitions/kaggle/5407/media/housesbanner.png\" width=600>"
   ]
  },
  {
   "cell_type": "markdown",
   "id": "9fc1221a",
   "metadata": {
    "ExecuteTime": {
     "end_time": "2023-05-24T06:01:25.611302Z",
     "start_time": "2023-05-24T06:01:25.608291Z"
    }
   },
   "source": [
    "## Load RAW data"
   ]
  },
  {
   "cell_type": "code",
   "execution_count": 4,
   "id": "b8f988b8",
   "metadata": {
    "ExecuteTime": {
     "end_time": "2023-05-25T01:29:34.980428Z",
     "start_time": "2023-05-25T01:29:34.939731Z"
    }
   },
   "outputs": [
    {
     "data": {
      "text/html": [
       "<div>\n",
       "<style scoped>\n",
       "    .dataframe tbody tr th:only-of-type {\n",
       "        vertical-align: middle;\n",
       "    }\n",
       "\n",
       "    .dataframe tbody tr th {\n",
       "        vertical-align: top;\n",
       "    }\n",
       "\n",
       "    .dataframe thead th {\n",
       "        text-align: right;\n",
       "    }\n",
       "</style>\n",
       "<table border=\"1\" class=\"dataframe\">\n",
       "  <thead>\n",
       "    <tr style=\"text-align: right;\">\n",
       "      <th></th>\n",
       "      <th>MSSubClass</th>\n",
       "      <th>MSZoning</th>\n",
       "      <th>LotFrontage</th>\n",
       "      <th>LotArea</th>\n",
       "      <th>Street</th>\n",
       "      <th>Alley</th>\n",
       "      <th>LotShape</th>\n",
       "      <th>LandContour</th>\n",
       "      <th>Utilities</th>\n",
       "      <th>LotConfig</th>\n",
       "      <th>...</th>\n",
       "      <th>PoolArea</th>\n",
       "      <th>PoolQC</th>\n",
       "      <th>Fence</th>\n",
       "      <th>MiscFeature</th>\n",
       "      <th>MiscVal</th>\n",
       "      <th>MoSold</th>\n",
       "      <th>YrSold</th>\n",
       "      <th>SaleType</th>\n",
       "      <th>SaleCondition</th>\n",
       "      <th>SalePrice</th>\n",
       "    </tr>\n",
       "    <tr>\n",
       "      <th>Id</th>\n",
       "      <th></th>\n",
       "      <th></th>\n",
       "      <th></th>\n",
       "      <th></th>\n",
       "      <th></th>\n",
       "      <th></th>\n",
       "      <th></th>\n",
       "      <th></th>\n",
       "      <th></th>\n",
       "      <th></th>\n",
       "      <th></th>\n",
       "      <th></th>\n",
       "      <th></th>\n",
       "      <th></th>\n",
       "      <th></th>\n",
       "      <th></th>\n",
       "      <th></th>\n",
       "      <th></th>\n",
       "      <th></th>\n",
       "      <th></th>\n",
       "      <th></th>\n",
       "    </tr>\n",
       "  </thead>\n",
       "  <tbody>\n",
       "    <tr>\n",
       "      <th>1</th>\n",
       "      <td>60</td>\n",
       "      <td>RL</td>\n",
       "      <td>65.0</td>\n",
       "      <td>8450</td>\n",
       "      <td>Pave</td>\n",
       "      <td>NaN</td>\n",
       "      <td>Reg</td>\n",
       "      <td>Lvl</td>\n",
       "      <td>AllPub</td>\n",
       "      <td>Inside</td>\n",
       "      <td>...</td>\n",
       "      <td>0</td>\n",
       "      <td>NaN</td>\n",
       "      <td>NaN</td>\n",
       "      <td>NaN</td>\n",
       "      <td>0</td>\n",
       "      <td>2</td>\n",
       "      <td>2008</td>\n",
       "      <td>WD</td>\n",
       "      <td>Normal</td>\n",
       "      <td>208500</td>\n",
       "    </tr>\n",
       "    <tr>\n",
       "      <th>2</th>\n",
       "      <td>20</td>\n",
       "      <td>RL</td>\n",
       "      <td>80.0</td>\n",
       "      <td>9600</td>\n",
       "      <td>Pave</td>\n",
       "      <td>NaN</td>\n",
       "      <td>Reg</td>\n",
       "      <td>Lvl</td>\n",
       "      <td>AllPub</td>\n",
       "      <td>FR2</td>\n",
       "      <td>...</td>\n",
       "      <td>0</td>\n",
       "      <td>NaN</td>\n",
       "      <td>NaN</td>\n",
       "      <td>NaN</td>\n",
       "      <td>0</td>\n",
       "      <td>5</td>\n",
       "      <td>2007</td>\n",
       "      <td>WD</td>\n",
       "      <td>Normal</td>\n",
       "      <td>181500</td>\n",
       "    </tr>\n",
       "    <tr>\n",
       "      <th>3</th>\n",
       "      <td>60</td>\n",
       "      <td>RL</td>\n",
       "      <td>68.0</td>\n",
       "      <td>11250</td>\n",
       "      <td>Pave</td>\n",
       "      <td>NaN</td>\n",
       "      <td>IR1</td>\n",
       "      <td>Lvl</td>\n",
       "      <td>AllPub</td>\n",
       "      <td>Inside</td>\n",
       "      <td>...</td>\n",
       "      <td>0</td>\n",
       "      <td>NaN</td>\n",
       "      <td>NaN</td>\n",
       "      <td>NaN</td>\n",
       "      <td>0</td>\n",
       "      <td>9</td>\n",
       "      <td>2008</td>\n",
       "      <td>WD</td>\n",
       "      <td>Normal</td>\n",
       "      <td>223500</td>\n",
       "    </tr>\n",
       "    <tr>\n",
       "      <th>4</th>\n",
       "      <td>70</td>\n",
       "      <td>RL</td>\n",
       "      <td>60.0</td>\n",
       "      <td>9550</td>\n",
       "      <td>Pave</td>\n",
       "      <td>NaN</td>\n",
       "      <td>IR1</td>\n",
       "      <td>Lvl</td>\n",
       "      <td>AllPub</td>\n",
       "      <td>Corner</td>\n",
       "      <td>...</td>\n",
       "      <td>0</td>\n",
       "      <td>NaN</td>\n",
       "      <td>NaN</td>\n",
       "      <td>NaN</td>\n",
       "      <td>0</td>\n",
       "      <td>2</td>\n",
       "      <td>2006</td>\n",
       "      <td>WD</td>\n",
       "      <td>Abnorml</td>\n",
       "      <td>140000</td>\n",
       "    </tr>\n",
       "    <tr>\n",
       "      <th>5</th>\n",
       "      <td>60</td>\n",
       "      <td>RL</td>\n",
       "      <td>84.0</td>\n",
       "      <td>14260</td>\n",
       "      <td>Pave</td>\n",
       "      <td>NaN</td>\n",
       "      <td>IR1</td>\n",
       "      <td>Lvl</td>\n",
       "      <td>AllPub</td>\n",
       "      <td>FR2</td>\n",
       "      <td>...</td>\n",
       "      <td>0</td>\n",
       "      <td>NaN</td>\n",
       "      <td>NaN</td>\n",
       "      <td>NaN</td>\n",
       "      <td>0</td>\n",
       "      <td>12</td>\n",
       "      <td>2008</td>\n",
       "      <td>WD</td>\n",
       "      <td>Normal</td>\n",
       "      <td>250000</td>\n",
       "    </tr>\n",
       "  </tbody>\n",
       "</table>\n",
       "<p>5 rows × 80 columns</p>\n",
       "</div>"
      ],
      "text/plain": [
       "    MSSubClass MSZoning  LotFrontage  LotArea Street Alley LotShape  \\\n",
       "Id                                                                    \n",
       "1           60       RL         65.0     8450   Pave   NaN      Reg   \n",
       "2           20       RL         80.0     9600   Pave   NaN      Reg   \n",
       "3           60       RL         68.0    11250   Pave   NaN      IR1   \n",
       "4           70       RL         60.0     9550   Pave   NaN      IR1   \n",
       "5           60       RL         84.0    14260   Pave   NaN      IR1   \n",
       "\n",
       "   LandContour Utilities LotConfig  ... PoolArea PoolQC Fence MiscFeature  \\\n",
       "Id                                  ...                                     \n",
       "1          Lvl    AllPub    Inside  ...        0    NaN   NaN         NaN   \n",
       "2          Lvl    AllPub       FR2  ...        0    NaN   NaN         NaN   \n",
       "3          Lvl    AllPub    Inside  ...        0    NaN   NaN         NaN   \n",
       "4          Lvl    AllPub    Corner  ...        0    NaN   NaN         NaN   \n",
       "5          Lvl    AllPub       FR2  ...        0    NaN   NaN         NaN   \n",
       "\n",
       "   MiscVal MoSold  YrSold  SaleType  SaleCondition  SalePrice  \n",
       "Id                                                             \n",
       "1        0      2    2008        WD         Normal     208500  \n",
       "2        0      5    2007        WD         Normal     181500  \n",
       "3        0      9    2008        WD         Normal     223500  \n",
       "4        0      2    2006        WD        Abnorml     140000  \n",
       "5        0     12    2008        WD         Normal     250000  \n",
       "\n",
       "[5 rows x 80 columns]"
      ]
     },
     "execution_count": 4,
     "metadata": {},
     "output_type": "execute_result"
    }
   ],
   "source": [
    "# set data source\n",
    "data_url = 'data/train.csv'\n",
    "\n",
    "# set index column\n",
    "index_col = 'Id'\n",
    "\n",
    "# load data\n",
    "data = pd.read_csv(data_url, index_col=index_col)\n",
    "data.head(5)"
   ]
  },
  {
   "cell_type": "markdown",
   "id": "269d65ba",
   "metadata": {
    "heading_collapsed": true
   },
   "source": [
    "## Feature-Target split"
   ]
  },
  {
   "cell_type": "code",
   "execution_count": null,
   "id": "0ec46b23",
   "metadata": {
    "ExecuteTime": {
     "end_time": "2023-05-24T06:09:31.110921Z",
     "start_time": "2023-05-24T06:09:31.105073Z"
    },
    "hidden": true
   },
   "outputs": [],
   "source": [
    "# define the target column in the train dataset\n",
    "target = 'Survived'\n",
    "\n",
    "# split columns into X and y\n",
    "X = data.drop(columns = target).copy()\n",
    "y = data[target]\n",
    "\n",
    "# check the shape of the data\n",
    "print(f'shape of X is \\033[94m{X.shape}\\033[0m, shape of y is \\033[94m{y.shape}\\033[0m')"
   ]
  },
  {
   "cell_type": "markdown",
   "id": "16fb3079",
   "metadata": {
    "ExecuteTime": {
     "end_time": "2023-05-24T06:07:23.217559Z",
     "start_time": "2023-05-24T06:07:23.214704Z"
    },
    "heading_collapsed": true
   },
   "source": [
    "## Missing values"
   ]
  },
  {
   "cell_type": "code",
   "execution_count": null,
   "id": "cad36ef3",
   "metadata": {
    "ExecuteTime": {
     "end_time": "2023-05-24T06:27:44.955402Z",
     "start_time": "2023-05-24T06:27:44.821265Z"
    },
    "hidden": true,
    "scrolled": true
   },
   "outputs": [],
   "source": [
    "#filter all the features with missing values\n",
    "feature_null= X.isnull().mean().sort_values(ascending = False)\n",
    "feature_null=feature_null[feature_null>0]\n",
    "\n",
    "# visualize\n",
    "plt.figure(figsize=(12, 4))\n",
    "feature_ranks = range(len(feature_null))\n",
    "bar = plt.barh(feature_null.index, feature_null.values, label=[str(x) for x in feature_ranks])\n",
    "plt.gca().invert_yaxis()\n",
    "plt.xlabel('%')\n",
    "plt.title(\"Percentage (%) of missing values\")\n",
    "plt.tight_layout()\n",
    "plt.grid(axis='x')\n",
    "plt.show()"
   ]
  },
  {
   "cell_type": "markdown",
   "id": "90bc8404",
   "metadata": {
    "ExecuteTime": {
     "end_time": "2023-05-24T06:02:58.238855Z",
     "start_time": "2023-05-24T06:02:58.236116Z"
    },
    "heading_collapsed": true
   },
   "source": [
    "## Feature selection"
   ]
  },
  {
   "cell_type": "code",
   "execution_count": null,
   "id": "2d330426",
   "metadata": {
    "ExecuteTime": {
     "end_time": "2023-05-24T05:53:40.014936Z",
     "start_time": "2023-05-24T05:53:40.005102Z"
    },
    "hidden": true
   },
   "outputs": [],
   "source": [
    "features_all = X.columns.to_list()\n",
    "columns_to_drop = ['Name', 'Ticket', 'Cabin']\n",
    "\n",
    "X = X.drop(columns=columns_to_drop)\n",
    "\n",
    "feature_numerical = X.select_dtypes(exclude='object').columns.to_list()\n",
    "\n",
    "feature_categorical = X.select_dtypes(include='object').columns.to_list()\n",
    "\n",
    "feature_categorical_Ordinal = []\n",
    "\n",
    "feature_categorical_OneHot = [key for key in feature_categorical \n",
    "                              if key not in feature_categorical_Ordinal]\n",
    "\n",
    "print(f'All features (\\033[94m{len(features_all)}\\\n",
    "\\033[0m): \\033[94m{features_all}\\033[0m')\n",
    "\n",
    "print(f'Features to drop (\\033[91m{len(columns_to_drop)}\\\n",
    "\\033[0m): \\033[94m{columns_to_drop}\\033[0m')\n",
    "\n",
    "print(f'Numercial features (\\033[94m{len(feature_numerical)}\\\n",
    "\\033[0m): \\033[94m{feature_numerical}\\033[0m')\n",
    "\n",
    "print(f'Categorical cat features (\\033[94m{len(feature_categorical)}\\\n",
    "\\033[0m): \\033[94m{feature_categorical}\\033[0m')\n",
    "\n",
    "print(f'Ordinal cat features (\\033[94m{len(feature_categorical_Ordinal)}\\\n",
    "\\033[0m): \\033[94m{feature_categorical_Ordinal}\\033[0m')\n",
    "\n",
    "print(f'None-ordinal cat features (\\033[94m{len(feature_categorical_OneHot)}\\\n",
    "\\033[0m): \\033[94m{feature_categorical_OneHot}\\033[0m')\n"
   ]
  },
  {
   "cell_type": "markdown",
   "id": "92d3009a",
   "metadata": {
    "heading_collapsed": true
   },
   "source": [
    "# Data Exploration"
   ]
  },
  {
   "cell_type": "markdown",
   "id": "5c56c619",
   "metadata": {
    "hidden": true
   },
   "source": [
    "## Distribution of each numerical feature"
   ]
  },
  {
   "cell_type": "code",
   "execution_count": null,
   "id": "8d3a1798",
   "metadata": {
    "ExecuteTime": {
     "end_time": "2023-05-24T05:57:57.858409Z",
     "start_time": "2023-05-24T05:57:56.924441Z"
    },
    "hidden": true,
    "scrolled": false
   },
   "outputs": [],
   "source": [
    "X[feature_numerical].hist(\n",
    "    figsize=(16, 20), \n",
    "    bins=50, \n",
    "    xlabelsize=8, \n",
    "    ylabelsize=8);"
   ]
  },
  {
   "cell_type": "markdown",
   "id": "46e4e86a",
   "metadata": {
    "hidden": true
   },
   "source": [
    "## Distribution of each catigorical feature"
   ]
  },
  {
   "cell_type": "code",
   "execution_count": null,
   "id": "df036e03",
   "metadata": {
    "ExecuteTime": {
     "end_time": "2023-05-24T05:55:30.097311Z",
     "start_time": "2023-05-24T05:55:29.838185Z"
    },
    "hidden": true,
    "scrolled": false
   },
   "outputs": [],
   "source": [
    "# this need to be improved by a better way to support quick look\n",
    "for column in feature_categorical:\n",
    "    # Create a countplot\n",
    "    plt.figure()\n",
    "    sns.histplot(data=X, x=column, kde=True)\n",
    "    plt.title(column + ' Histogram')\n",
    "    plt.xlabel(column)\n",
    "    plt.ylabel('Frequency')\n",
    "    plt.show()"
   ]
  },
  {
   "cell_type": "markdown",
   "id": "bfffd311",
   "metadata": {
    "heading_collapsed": true
   },
   "source": [
    "# Data Preprocessing"
   ]
  },
  {
   "cell_type": "code",
   "execution_count": null,
   "id": "0e2d6bf9",
   "metadata": {
    "ExecuteTime": {
     "end_time": "2023-05-24T03:25:48.871400Z",
     "start_time": "2023-05-24T03:25:48.837423Z"
    },
    "hidden": true
   },
   "outputs": [],
   "source": [
    "#transformer for numerical data\n",
    "preproc_num = make_pipeline(\n",
    "    SimpleImputer(strategy='mean'),\n",
    "    MinMaxScaler()\n",
    ")\n",
    "\n",
    "preproc_cat_ordinal = make_pipeline(\n",
    "    SimpleImputer(strategy='most_frequent')\n",
    ")\n",
    "\n",
    "preproc_cat_onehot = make_pipeline(\n",
    "    SimpleImputer(strategy='most_frequent'),\n",
    "    OneHotEncoder(\n",
    "        drop = 'if_binary',\n",
    "        sparse_output=False,\n",
    "        handle_unknown='ignore')\n",
    ")\n",
    "\n",
    "preproc_pipeline = make_column_transformer(\n",
    "    (preproc_num, feature_numerical),\n",
    "    (preproc_cat_ordinal, feature_categorical_Ordinal),\n",
    "    (preproc_cat_onehot, feature_categorical_OneHot),\n",
    "    remainder='passthrough'\n",
    ")\n",
    "\n",
    "display(preproc_pipeline)"
   ]
  },
  {
   "cell_type": "code",
   "execution_count": null,
   "id": "a52bb6d5",
   "metadata": {
    "ExecuteTime": {
     "end_time": "2023-05-24T03:25:51.760089Z",
     "start_time": "2023-05-24T03:25:51.717741Z"
    },
    "hidden": true
   },
   "outputs": [],
   "source": [
    "preproc_pipeline.fit(X)"
   ]
  },
  {
   "cell_type": "markdown",
   "id": "eef9ec6f",
   "metadata": {
    "heading_collapsed": true
   },
   "source": [
    "# Model"
   ]
  },
  {
   "cell_type": "markdown",
   "id": "8b042141",
   "metadata": {
    "ExecuteTime": {
     "end_time": "2023-05-24T01:44:31.104233Z",
     "start_time": "2023-05-24T01:44:31.100992Z"
    },
    "heading_collapsed": true,
    "hidden": true
   },
   "source": [
    "## Cross validation"
   ]
  },
  {
   "cell_type": "code",
   "execution_count": null,
   "id": "6c4504dc",
   "metadata": {
    "ExecuteTime": {
     "end_time": "2023-05-24T03:25:57.400699Z",
     "start_time": "2023-05-24T03:25:55.399608Z"
    },
    "hidden": true
   },
   "outputs": [],
   "source": [
    "cv_model = KNeighborsClassifier()\n",
    "cv_baseline = make_pipeline(\n",
    "    preproc_pipeline,\n",
    "    cv_model\n",
    ")\n",
    "\n",
    "cv_result = cross_val_score(\n",
    "    cv_baseline,\n",
    "    X, \n",
    "    y, \n",
    "    cv=5,\n",
    "#     scoring='',\n",
    "    n_jobs=-1)\n",
    "score_baseline=np.mean(cv_result)\n",
    "print(f'Baseline score: \\033[94m{score_baseline}\\033[0m \\nof {type(cv_model)} model ')"
   ]
  },
  {
   "cell_type": "markdown",
   "id": "ac8a2beb",
   "metadata": {
    "hidden": true
   },
   "source": [
    "## Grid/Random Search"
   ]
  },
  {
   "cell_type": "markdown",
   "id": "38f1b8bc",
   "metadata": {
    "ExecuteTime": {
     "end_time": "2023-05-24T02:08:25.822466Z",
     "start_time": "2023-05-24T02:08:25.819259Z"
    },
    "heading_collapsed": true,
    "hidden": true
   },
   "source": [
    "### KNN"
   ]
  },
  {
   "cell_type": "code",
   "execution_count": null,
   "id": "90adfc3e",
   "metadata": {
    "ExecuteTime": {
     "end_time": "2023-05-24T03:26:15.683143Z",
     "start_time": "2023-05-24T03:26:13.935025Z"
    },
    "hidden": true,
    "scrolled": true
   },
   "outputs": [],
   "source": [
    "knn_pipeline = make_pipeline(\n",
    "    preproc_pipeline, \n",
    "    KNeighborsRegressor()\n",
    ")\n",
    "\n",
    "knn_param_grid={\n",
    "    '__n_neighbors': list(range(1,20,1))\n",
    "}\n",
    "knn_search = GridSearchCV(knn_pipeline, \n",
    "                      knn_param_grid, \n",
    "                      cv=5, \n",
    "                      scoring='r2', \n",
    "                      n_jobs=-1)\n",
    "knn_search.fit(X, y)"
   ]
  },
  {
   "cell_type": "code",
   "execution_count": null,
   "id": "7e6ee6f9",
   "metadata": {
    "ExecuteTime": {
     "end_time": "2023-05-24T02:08:13.137643Z",
     "start_time": "2023-05-24T02:08:13.118713Z"
    },
    "hidden": true
   },
   "outputs": [],
   "source": [
    "knn_best_model = knn_search.best_estimator_\n",
    "print(knn_search.best_score_)\n",
    "print(knn_search.best_params_)"
   ]
  },
  {
   "cell_type": "markdown",
   "id": "455db35a",
   "metadata": {
    "heading_collapsed": true,
    "hidden": true
   },
   "source": [
    "### Random Foreast"
   ]
  },
  {
   "cell_type": "code",
   "execution_count": null,
   "id": "958c9977",
   "metadata": {
    "hidden": true
   },
   "outputs": [],
   "source": []
  },
  {
   "cell_type": "markdown",
   "id": "5393935e",
   "metadata": {
    "heading_collapsed": true,
    "hidden": true
   },
   "source": [
    "### SVM"
   ]
  },
  {
   "cell_type": "code",
   "execution_count": null,
   "id": "d18d39fb",
   "metadata": {
    "hidden": true
   },
   "outputs": [],
   "source": []
  },
  {
   "cell_type": "code",
   "execution_count": null,
   "id": "2d48188a",
   "metadata": {
    "hidden": true
   },
   "outputs": [],
   "source": []
  }
 ],
 "metadata": {
  "kernelspec": {
   "display_name": "Python 3 (ipykernel)",
   "language": "python",
   "name": "python3"
  },
  "language_info": {
   "codemirror_mode": {
    "name": "ipython",
    "version": 3
   },
   "file_extension": ".py",
   "mimetype": "text/x-python",
   "name": "python",
   "nbconvert_exporter": "python",
   "pygments_lexer": "ipython3",
   "version": "3.10.6"
  },
  "toc": {
   "base_numbering": 1,
   "nav_menu": {},
   "number_sections": true,
   "sideBar": true,
   "skip_h1_title": false,
   "title_cell": "Table of Contents",
   "title_sidebar": "Contents",
   "toc_cell": false,
   "toc_position": {
    "height": "calc(100% - 180px)",
    "left": "10px",
    "top": "150px",
    "width": "258.391px"
   },
   "toc_section_display": true,
   "toc_window_display": true
  }
 },
 "nbformat": 4,
 "nbformat_minor": 5
}
