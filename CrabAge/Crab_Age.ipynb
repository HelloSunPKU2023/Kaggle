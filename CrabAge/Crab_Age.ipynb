{
 "cells": [
  {
   "cell_type": "markdown",
   "id": "9466c0b6",
   "metadata": {
    "heading_collapsed": true
   },
   "source": [
    "# Load Packages"
   ]
  },
  {
   "cell_type": "code",
   "execution_count": 1,
   "id": "f55c10ec",
   "metadata": {
    "ExecuteTime": {
     "end_time": "2023-06-11T16:04:43.388261Z",
     "start_time": "2023-06-11T16:04:42.372302Z"
    },
    "hidden": true
   },
   "outputs": [],
   "source": [
    "import numpy as np\n",
    "import pandas as pd\n",
    "from scipy import stats\n",
    "from scipy.stats import randint, uniform\n",
    "\n",
    "# visualization\n",
    "import matplotlib.pyplot as plt\n",
    "import seaborn as sns\n",
    "\n",
    "# Preprocessing\n",
    "from sklearn.preprocessing import OneHotEncoder, MinMaxScaler, OrdinalEncoder, StandardScaler, RobustScaler\n",
    "from sklearn.impute import SimpleImputer\n",
    "from sklearn.base import BaseEstimator, TransformerMixin\n",
    "\n",
    "# Pipeline\n",
    "from sklearn.pipeline import Pipeline, make_pipeline\n",
    "from sklearn.compose import ColumnTransformer, make_column_transformer\n",
    "\n",
    "# Model Tuning\n",
    "import optuna\n",
    "from sklearn.model_selection import train_test_split\n",
    "from sklearn.model_selection import cross_val_score, cross_validate\n",
    "from sklearn.model_selection import GridSearchCV, RandomizedSearchCV\n",
    "\n",
    "# Models\n",
    "from sklearn.linear_model import Ridge, Lasso, LinearRegression,LogisticRegression\n",
    "from sklearn.neighbors import KNeighborsRegressor, KNeighborsClassifier\n",
    "from sklearn.svm import SVC, SVR\n",
    "from sklearn.tree import DecisionTreeRegressor, DecisionTreeClassifier\n",
    "from sklearn.ensemble import RandomForestRegressor, RandomForestClassifier\n",
    "from sklearn.decomposition import PCA\n",
    "from sklearn.cluster import KMeans\n",
    "from sklearn.ensemble import GradientBoostingRegressor,GradientBoostingClassifier\n",
    "from sklearn.ensemble import BaggingClassifier, BaggingRegressor\n",
    "\n",
    "import xgboost as xgb\n",
    "import lightgbm as lgb\n",
    "\n",
    "\n",
    "from sklearn.ensemble import BaggingClassifier, BaggingRegressor\n",
    "\n",
    "from sklearn import set_config\n",
    "# set_config(display='diagram')\n",
    "\n",
    "import os\n",
    "import psutil\n",
    "\n",
    "\n",
    "import warnings\n",
    "# warnings.filterwarnings('ignore')\n",
    "\n",
    "# Ignore the warning\n",
    "warnings.filterwarnings(\"ignore\")\n",
    "# warnings.filterwarnings(\"default\")"
   ]
  },
  {
   "cell_type": "markdown",
   "id": "ec0cfa2f",
   "metadata": {},
   "source": [
    "# Load Data"
   ]
  },
  {
   "cell_type": "markdown",
   "id": "37ae1e1c",
   "metadata": {
    "ExecuteTime": {
     "end_time": "2023-05-25T15:47:12.926543Z",
     "start_time": "2023-05-25T15:47:12.922010Z"
    }
   },
   "source": [
    "> Data Readme\n",
    "https://"
   ]
  },
  {
   "cell_type": "markdown",
   "id": "9fc1221a",
   "metadata": {
    "ExecuteTime": {
     "end_time": "2023-05-24T06:01:25.611302Z",
     "start_time": "2023-05-24T06:01:25.608291Z"
    },
    "heading_collapsed": true
   },
   "source": [
    "## Load RAW data"
   ]
  },
  {
   "cell_type": "code",
   "execution_count": 119,
   "id": "b8f988b8",
   "metadata": {
    "ExecuteTime": {
     "end_time": "2023-06-12T01:29:39.077383Z",
     "start_time": "2023-06-12T01:29:39.035643Z"
    },
    "hidden": true
   },
   "outputs": [
    {
     "data": {
      "text/html": [
       "<div>\n",
       "<style scoped>\n",
       "    .dataframe tbody tr th:only-of-type {\n",
       "        vertical-align: middle;\n",
       "    }\n",
       "\n",
       "    .dataframe tbody tr th {\n",
       "        vertical-align: top;\n",
       "    }\n",
       "\n",
       "    .dataframe thead th {\n",
       "        text-align: right;\n",
       "    }\n",
       "</style>\n",
       "<table border=\"1\" class=\"dataframe\">\n",
       "  <thead>\n",
       "    <tr style=\"text-align: right;\">\n",
       "      <th></th>\n",
       "      <th>Sex</th>\n",
       "      <th>Length</th>\n",
       "      <th>Diameter</th>\n",
       "      <th>Height</th>\n",
       "      <th>Weight</th>\n",
       "      <th>Shucked Weight</th>\n",
       "      <th>Viscera Weight</th>\n",
       "      <th>Shell Weight</th>\n",
       "      <th>Age</th>\n",
       "    </tr>\n",
       "    <tr>\n",
       "      <th>id</th>\n",
       "      <th></th>\n",
       "      <th></th>\n",
       "      <th></th>\n",
       "      <th></th>\n",
       "      <th></th>\n",
       "      <th></th>\n",
       "      <th></th>\n",
       "      <th></th>\n",
       "      <th></th>\n",
       "    </tr>\n",
       "  </thead>\n",
       "  <tbody>\n",
       "    <tr>\n",
       "      <th>0</th>\n",
       "      <td>I</td>\n",
       "      <td>1.5250</td>\n",
       "      <td>1.1750</td>\n",
       "      <td>0.3750</td>\n",
       "      <td>28.973189</td>\n",
       "      <td>12.728926</td>\n",
       "      <td>6.647958</td>\n",
       "      <td>8.348928</td>\n",
       "      <td>9</td>\n",
       "    </tr>\n",
       "    <tr>\n",
       "      <th>1</th>\n",
       "      <td>I</td>\n",
       "      <td>1.1000</td>\n",
       "      <td>0.8250</td>\n",
       "      <td>0.2750</td>\n",
       "      <td>10.418441</td>\n",
       "      <td>4.521745</td>\n",
       "      <td>2.324659</td>\n",
       "      <td>3.401940</td>\n",
       "      <td>8</td>\n",
       "    </tr>\n",
       "    <tr>\n",
       "      <th>2</th>\n",
       "      <td>M</td>\n",
       "      <td>1.3875</td>\n",
       "      <td>1.1125</td>\n",
       "      <td>0.3750</td>\n",
       "      <td>24.777463</td>\n",
       "      <td>11.339800</td>\n",
       "      <td>5.556502</td>\n",
       "      <td>6.662133</td>\n",
       "      <td>9</td>\n",
       "    </tr>\n",
       "    <tr>\n",
       "      <th>3</th>\n",
       "      <td>F</td>\n",
       "      <td>1.7000</td>\n",
       "      <td>1.4125</td>\n",
       "      <td>0.5000</td>\n",
       "      <td>50.660556</td>\n",
       "      <td>20.354941</td>\n",
       "      <td>10.991839</td>\n",
       "      <td>14.996885</td>\n",
       "      <td>11</td>\n",
       "    </tr>\n",
       "    <tr>\n",
       "      <th>4</th>\n",
       "      <td>I</td>\n",
       "      <td>1.2500</td>\n",
       "      <td>1.0125</td>\n",
       "      <td>0.3375</td>\n",
       "      <td>23.289114</td>\n",
       "      <td>11.977664</td>\n",
       "      <td>4.507570</td>\n",
       "      <td>5.953395</td>\n",
       "      <td>8</td>\n",
       "    </tr>\n",
       "  </tbody>\n",
       "</table>\n",
       "</div>"
      ],
      "text/plain": [
       "   Sex  Length  Diameter  Height     Weight  Shucked Weight  Viscera Weight  \\\n",
       "id                                                                            \n",
       "0    I  1.5250    1.1750  0.3750  28.973189       12.728926        6.647958   \n",
       "1    I  1.1000    0.8250  0.2750  10.418441        4.521745        2.324659   \n",
       "2    M  1.3875    1.1125  0.3750  24.777463       11.339800        5.556502   \n",
       "3    F  1.7000    1.4125  0.5000  50.660556       20.354941       10.991839   \n",
       "4    I  1.2500    1.0125  0.3375  23.289114       11.977664        4.507570   \n",
       "\n",
       "    Shell Weight  Age  \n",
       "id                     \n",
       "0       8.348928    9  \n",
       "1       3.401940    8  \n",
       "2       6.662133    9  \n",
       "3      14.996885   11  \n",
       "4       5.953395    8  "
      ]
     },
     "execution_count": 119,
     "metadata": {},
     "output_type": "execute_result"
    }
   ],
   "source": [
    "# set data source\n",
    "data_url = 'data/train.csv'\n",
    "\n",
    "# set index column\n",
    "index_col = 'id'\n",
    "\n",
    "# load data\n",
    "data = pd.read_csv(data_url, index_col=index_col)\n",
    "data.head(5)"
   ]
  },
  {
   "cell_type": "markdown",
   "id": "16fb3079",
   "metadata": {
    "ExecuteTime": {
     "end_time": "2023-05-24T06:07:23.217559Z",
     "start_time": "2023-05-24T06:07:23.214704Z"
    },
    "heading_collapsed": true
   },
   "source": [
    "## Missing Values"
   ]
  },
  {
   "cell_type": "code",
   "execution_count": null,
   "id": "cad36ef3",
   "metadata": {
    "ExecuteTime": {
     "end_time": "2023-06-11T15:06:22.780137Z",
     "start_time": "2023-06-11T15:06:22.648328Z"
    },
    "hidden": true,
    "scrolled": true
   },
   "outputs": [],
   "source": [
    "#filter all the features with missing values\n",
    "feature_null= X.isnull().mean().sort_values(ascending = False)\n",
    "feature_null=feature_null[feature_null>0]\n",
    "\n",
    "feature_with_missing_values = feature_null.index.sort_values().to_list()\n",
    "print(f'feature with missing values (\\033[95m{len(feature_with_missing_values)}\\\n",
    "\\033[0m): \\033[94m{feature_with_missing_values}\\033[0m')\n",
    "# visualize\n",
    "plt.figure(figsize=(12, 4))\n",
    "feature_ranks = range(len(feature_null))\n",
    "bar = plt.barh(feature_null.index, feature_null.values, label=[str(x) for x in feature_ranks])\n",
    "plt.gca().invert_yaxis()\n",
    "plt.xlabel('%')\n",
    "plt.title(\"Percentage (%) of missing values\")\n",
    "plt.tight_layout()\n",
    "plt.grid(axis='x')\n",
    "plt.show()"
   ]
  },
  {
   "cell_type": "markdown",
   "id": "c2449b77",
   "metadata": {},
   "source": [
    "## Feature Engineering & Selection"
   ]
  },
  {
   "cell_type": "code",
   "execution_count": 209,
   "id": "0ec46b23",
   "metadata": {
    "ExecuteTime": {
     "end_time": "2023-06-12T01:54:03.895601Z",
     "start_time": "2023-06-12T01:54:03.749689Z"
    }
   },
   "outputs": [
    {
     "name": "stdout",
     "output_type": "stream",
     "text": [
      "shape of X is \u001b[94m(74014, 15)\u001b[0m, hape of y is \u001b[94m(74014,)\u001b[0m\n"
     ]
    },
    {
     "data": {
      "text/html": [
       "<div>\n",
       "<style scoped>\n",
       "    .dataframe tbody tr th:only-of-type {\n",
       "        vertical-align: middle;\n",
       "    }\n",
       "\n",
       "    .dataframe tbody tr th {\n",
       "        vertical-align: top;\n",
       "    }\n",
       "\n",
       "    .dataframe thead th {\n",
       "        text-align: right;\n",
       "    }\n",
       "</style>\n",
       "<table border=\"1\" class=\"dataframe\">\n",
       "  <thead>\n",
       "    <tr style=\"text-align: right;\">\n",
       "      <th></th>\n",
       "      <th>count</th>\n",
       "      <th>mean</th>\n",
       "      <th>std</th>\n",
       "      <th>min</th>\n",
       "      <th>25%</th>\n",
       "      <th>50%</th>\n",
       "      <th>75%</th>\n",
       "      <th>max</th>\n",
       "    </tr>\n",
       "  </thead>\n",
       "  <tbody>\n",
       "    <tr>\n",
       "      <th>Length</th>\n",
       "      <td>74014.0</td>\n",
       "      <td>1.317759</td>\n",
       "      <td>0.287397</td>\n",
       "      <td>0.187500</td>\n",
       "      <td>1.150000</td>\n",
       "      <td>1.375000</td>\n",
       "      <td>1.537500</td>\n",
       "      <td>2.012815</td>\n",
       "    </tr>\n",
       "    <tr>\n",
       "      <th>Diameter</th>\n",
       "      <td>74014.0</td>\n",
       "      <td>1.024741</td>\n",
       "      <td>0.237112</td>\n",
       "      <td>0.137500</td>\n",
       "      <td>0.887500</td>\n",
       "      <td>1.075000</td>\n",
       "      <td>1.200000</td>\n",
       "      <td>1.612500</td>\n",
       "    </tr>\n",
       "    <tr>\n",
       "      <th>Height</th>\n",
       "      <td>74014.0</td>\n",
       "      <td>0.348258</td>\n",
       "      <td>0.091749</td>\n",
       "      <td>0.025000</td>\n",
       "      <td>0.300000</td>\n",
       "      <td>0.362500</td>\n",
       "      <td>0.412500</td>\n",
       "      <td>2.825000</td>\n",
       "    </tr>\n",
       "    <tr>\n",
       "      <th>Weight</th>\n",
       "      <td>74014.0</td>\n",
       "      <td>23.393817</td>\n",
       "      <td>12.643249</td>\n",
       "      <td>0.056699</td>\n",
       "      <td>13.437663</td>\n",
       "      <td>23.799405</td>\n",
       "      <td>32.162508</td>\n",
       "      <td>80.101512</td>\n",
       "    </tr>\n",
       "    <tr>\n",
       "      <th>Shucked Weight</th>\n",
       "      <td>74014.0</td>\n",
       "      <td>10.107991</td>\n",
       "      <td>5.615972</td>\n",
       "      <td>0.028349</td>\n",
       "      <td>5.712424</td>\n",
       "      <td>9.908150</td>\n",
       "      <td>14.033003</td>\n",
       "      <td>42.184056</td>\n",
       "    </tr>\n",
       "    <tr>\n",
       "      <th>Viscera Weight</th>\n",
       "      <td>74014.0</td>\n",
       "      <td>5.060183</td>\n",
       "      <td>2.791658</td>\n",
       "      <td>0.042524</td>\n",
       "      <td>2.877474</td>\n",
       "      <td>4.989512</td>\n",
       "      <td>7.002326</td>\n",
       "      <td>21.545620</td>\n",
       "    </tr>\n",
       "    <tr>\n",
       "      <th>Shell Weight</th>\n",
       "      <td>74014.0</td>\n",
       "      <td>6.726378</td>\n",
       "      <td>3.582962</td>\n",
       "      <td>0.042524</td>\n",
       "      <td>3.968930</td>\n",
       "      <td>6.945627</td>\n",
       "      <td>9.071840</td>\n",
       "      <td>28.491248</td>\n",
       "    </tr>\n",
       "    <tr>\n",
       "      <th>Log Weight</th>\n",
       "      <td>74014.0</td>\n",
       "      <td>2.924723</td>\n",
       "      <td>0.803659</td>\n",
       "      <td>-2.869999</td>\n",
       "      <td>2.598061</td>\n",
       "      <td>3.169661</td>\n",
       "      <td>3.470801</td>\n",
       "      <td>4.383295</td>\n",
       "    </tr>\n",
       "    <tr>\n",
       "      <th>Volume</th>\n",
       "      <td>74014.0</td>\n",
       "      <td>0.540454</td>\n",
       "      <td>0.300555</td>\n",
       "      <td>0.000645</td>\n",
       "      <td>0.303555</td>\n",
       "      <td>0.544430</td>\n",
       "      <td>0.755305</td>\n",
       "      <td>3.321141</td>\n",
       "    </tr>\n",
       "    <tr>\n",
       "      <th>Log Volume</th>\n",
       "      <td>74014.0</td>\n",
       "      <td>-0.860861</td>\n",
       "      <td>0.842555</td>\n",
       "      <td>-7.346987</td>\n",
       "      <td>-1.192194</td>\n",
       "      <td>-0.608016</td>\n",
       "      <td>-0.280634</td>\n",
       "      <td>1.200308</td>\n",
       "    </tr>\n",
       "    <tr>\n",
       "      <th>Density</th>\n",
       "      <td>74014.0</td>\n",
       "      <td>44.443027</td>\n",
       "      <td>6.255446</td>\n",
       "      <td>5.070428</td>\n",
       "      <td>40.732873</td>\n",
       "      <td>43.762588</td>\n",
       "      <td>47.221606</td>\n",
       "      <td>323.604584</td>\n",
       "    </tr>\n",
       "    <tr>\n",
       "      <th>Diameter_Height_Ratio</th>\n",
       "      <td>74014.0</td>\n",
       "      <td>2.981982</td>\n",
       "      <td>0.305251</td>\n",
       "      <td>0.314159</td>\n",
       "      <td>2.794118</td>\n",
       "      <td>2.966667</td>\n",
       "      <td>3.151515</td>\n",
       "      <td>7.400000</td>\n",
       "    </tr>\n",
       "    <tr>\n",
       "      <th>Shell_Weight_Ratio</th>\n",
       "      <td>74014.0</td>\n",
       "      <td>0.292895</td>\n",
       "      <td>0.040041</td>\n",
       "      <td>0.075472</td>\n",
       "      <td>0.267648</td>\n",
       "      <td>0.288896</td>\n",
       "      <td>0.314208</td>\n",
       "      <td>2.615672</td>\n",
       "    </tr>\n",
       "    <tr>\n",
       "      <th>Shape</th>\n",
       "      <td>74014.0</td>\n",
       "      <td>0.438043</td>\n",
       "      <td>0.053992</td>\n",
       "      <td>0.153740</td>\n",
       "      <td>0.407424</td>\n",
       "      <td>0.434137</td>\n",
       "      <td>0.463869</td>\n",
       "      <td>4.079746</td>\n",
       "    </tr>\n",
       "  </tbody>\n",
       "</table>\n",
       "</div>"
      ],
      "text/plain": [
       "                         count       mean        std       min        25%  \\\n",
       "Length                 74014.0   1.317759   0.287397  0.187500   1.150000   \n",
       "Diameter               74014.0   1.024741   0.237112  0.137500   0.887500   \n",
       "Height                 74014.0   0.348258   0.091749  0.025000   0.300000   \n",
       "Weight                 74014.0  23.393817  12.643249  0.056699  13.437663   \n",
       "Shucked Weight         74014.0  10.107991   5.615972  0.028349   5.712424   \n",
       "Viscera Weight         74014.0   5.060183   2.791658  0.042524   2.877474   \n",
       "Shell Weight           74014.0   6.726378   3.582962  0.042524   3.968930   \n",
       "Log Weight             74014.0   2.924723   0.803659 -2.869999   2.598061   \n",
       "Volume                 74014.0   0.540454   0.300555  0.000645   0.303555   \n",
       "Log Volume             74014.0  -0.860861   0.842555 -7.346987  -1.192194   \n",
       "Density                74014.0  44.443027   6.255446  5.070428  40.732873   \n",
       "Diameter_Height_Ratio  74014.0   2.981982   0.305251  0.314159   2.794118   \n",
       "Shell_Weight_Ratio     74014.0   0.292895   0.040041  0.075472   0.267648   \n",
       "Shape                  74014.0   0.438043   0.053992  0.153740   0.407424   \n",
       "\n",
       "                             50%        75%         max  \n",
       "Length                  1.375000   1.537500    2.012815  \n",
       "Diameter                1.075000   1.200000    1.612500  \n",
       "Height                  0.362500   0.412500    2.825000  \n",
       "Weight                 23.799405  32.162508   80.101512  \n",
       "Shucked Weight          9.908150  14.033003   42.184056  \n",
       "Viscera Weight          4.989512   7.002326   21.545620  \n",
       "Shell Weight            6.945627   9.071840   28.491248  \n",
       "Log Weight              3.169661   3.470801    4.383295  \n",
       "Volume                  0.544430   0.755305    3.321141  \n",
       "Log Volume             -0.608016  -0.280634    1.200308  \n",
       "Density                43.762588  47.221606  323.604584  \n",
       "Diameter_Height_Ratio   2.966667   3.151515    7.400000  \n",
       "Shell_Weight_Ratio      0.288896   0.314208    2.615672  \n",
       "Shape                   0.434137   0.463869    4.079746  "
      ]
     },
     "metadata": {},
     "output_type": "display_data"
    },
    {
     "data": {
      "text/html": [
       "<div>\n",
       "<style scoped>\n",
       "    .dataframe tbody tr th:only-of-type {\n",
       "        vertical-align: middle;\n",
       "    }\n",
       "\n",
       "    .dataframe tbody tr th {\n",
       "        vertical-align: top;\n",
       "    }\n",
       "\n",
       "    .dataframe thead th {\n",
       "        text-align: right;\n",
       "    }\n",
       "</style>\n",
       "<table border=\"1\" class=\"dataframe\">\n",
       "  <thead>\n",
       "    <tr style=\"text-align: right;\">\n",
       "      <th></th>\n",
       "      <th>count</th>\n",
       "      <th>mean</th>\n",
       "      <th>std</th>\n",
       "      <th>min</th>\n",
       "      <th>25%</th>\n",
       "      <th>50%</th>\n",
       "      <th>75%</th>\n",
       "      <th>max</th>\n",
       "    </tr>\n",
       "  </thead>\n",
       "  <tbody>\n",
       "    <tr>\n",
       "      <th>Length</th>\n",
       "      <td>74014.0</td>\n",
       "      <td>1.317759</td>\n",
       "      <td>0.287397</td>\n",
       "      <td>0.187500</td>\n",
       "      <td>1.150000</td>\n",
       "      <td>1.375000</td>\n",
       "      <td>1.537500</td>\n",
       "      <td>2.012815</td>\n",
       "    </tr>\n",
       "    <tr>\n",
       "      <th>Diameter</th>\n",
       "      <td>74014.0</td>\n",
       "      <td>1.024741</td>\n",
       "      <td>0.237112</td>\n",
       "      <td>0.137500</td>\n",
       "      <td>0.887500</td>\n",
       "      <td>1.075000</td>\n",
       "      <td>1.200000</td>\n",
       "      <td>1.612500</td>\n",
       "    </tr>\n",
       "    <tr>\n",
       "      <th>Height</th>\n",
       "      <td>74014.0</td>\n",
       "      <td>0.348258</td>\n",
       "      <td>0.091749</td>\n",
       "      <td>0.025000</td>\n",
       "      <td>0.300000</td>\n",
       "      <td>0.362500</td>\n",
       "      <td>0.412500</td>\n",
       "      <td>2.825000</td>\n",
       "    </tr>\n",
       "    <tr>\n",
       "      <th>Weight</th>\n",
       "      <td>74014.0</td>\n",
       "      <td>23.393817</td>\n",
       "      <td>12.643249</td>\n",
       "      <td>0.056699</td>\n",
       "      <td>13.437663</td>\n",
       "      <td>23.799405</td>\n",
       "      <td>32.162508</td>\n",
       "      <td>80.101512</td>\n",
       "    </tr>\n",
       "    <tr>\n",
       "      <th>Shucked Weight</th>\n",
       "      <td>74014.0</td>\n",
       "      <td>10.107991</td>\n",
       "      <td>5.615972</td>\n",
       "      <td>0.028349</td>\n",
       "      <td>5.712424</td>\n",
       "      <td>9.908150</td>\n",
       "      <td>14.033003</td>\n",
       "      <td>42.184056</td>\n",
       "    </tr>\n",
       "    <tr>\n",
       "      <th>Viscera Weight</th>\n",
       "      <td>74014.0</td>\n",
       "      <td>5.060183</td>\n",
       "      <td>2.791658</td>\n",
       "      <td>0.042524</td>\n",
       "      <td>2.877474</td>\n",
       "      <td>4.989512</td>\n",
       "      <td>7.002326</td>\n",
       "      <td>21.545620</td>\n",
       "    </tr>\n",
       "    <tr>\n",
       "      <th>Shell Weight</th>\n",
       "      <td>74014.0</td>\n",
       "      <td>6.726378</td>\n",
       "      <td>3.582962</td>\n",
       "      <td>0.042524</td>\n",
       "      <td>3.968930</td>\n",
       "      <td>6.945627</td>\n",
       "      <td>9.071840</td>\n",
       "      <td>28.491248</td>\n",
       "    </tr>\n",
       "    <tr>\n",
       "      <th>Log Weight</th>\n",
       "      <td>74014.0</td>\n",
       "      <td>2.924723</td>\n",
       "      <td>0.803659</td>\n",
       "      <td>-2.869999</td>\n",
       "      <td>2.598061</td>\n",
       "      <td>3.169661</td>\n",
       "      <td>3.470801</td>\n",
       "      <td>4.383295</td>\n",
       "    </tr>\n",
       "    <tr>\n",
       "      <th>Volume</th>\n",
       "      <td>74014.0</td>\n",
       "      <td>0.540454</td>\n",
       "      <td>0.300555</td>\n",
       "      <td>0.000645</td>\n",
       "      <td>0.303555</td>\n",
       "      <td>0.544430</td>\n",
       "      <td>0.755305</td>\n",
       "      <td>3.321141</td>\n",
       "    </tr>\n",
       "    <tr>\n",
       "      <th>Log Volume</th>\n",
       "      <td>74014.0</td>\n",
       "      <td>-0.860861</td>\n",
       "      <td>0.842555</td>\n",
       "      <td>-7.346987</td>\n",
       "      <td>-1.192194</td>\n",
       "      <td>-0.608016</td>\n",
       "      <td>-0.280634</td>\n",
       "      <td>1.200308</td>\n",
       "    </tr>\n",
       "    <tr>\n",
       "      <th>Density</th>\n",
       "      <td>74014.0</td>\n",
       "      <td>44.443027</td>\n",
       "      <td>6.255446</td>\n",
       "      <td>5.070428</td>\n",
       "      <td>40.732873</td>\n",
       "      <td>43.762588</td>\n",
       "      <td>47.221606</td>\n",
       "      <td>323.604584</td>\n",
       "    </tr>\n",
       "    <tr>\n",
       "      <th>Diameter_Height_Ratio</th>\n",
       "      <td>74014.0</td>\n",
       "      <td>2.981982</td>\n",
       "      <td>0.305251</td>\n",
       "      <td>0.314159</td>\n",
       "      <td>2.794118</td>\n",
       "      <td>2.966667</td>\n",
       "      <td>3.151515</td>\n",
       "      <td>7.400000</td>\n",
       "    </tr>\n",
       "    <tr>\n",
       "      <th>Shell_Weight_Ratio</th>\n",
       "      <td>74014.0</td>\n",
       "      <td>0.292895</td>\n",
       "      <td>0.040041</td>\n",
       "      <td>0.075472</td>\n",
       "      <td>0.267648</td>\n",
       "      <td>0.288896</td>\n",
       "      <td>0.314208</td>\n",
       "      <td>2.615672</td>\n",
       "    </tr>\n",
       "    <tr>\n",
       "      <th>Shape</th>\n",
       "      <td>74014.0</td>\n",
       "      <td>0.438043</td>\n",
       "      <td>0.053992</td>\n",
       "      <td>0.153740</td>\n",
       "      <td>0.407424</td>\n",
       "      <td>0.434137</td>\n",
       "      <td>0.463869</td>\n",
       "      <td>4.079746</td>\n",
       "    </tr>\n",
       "  </tbody>\n",
       "</table>\n",
       "</div>"
      ],
      "text/plain": [
       "                         count       mean        std       min        25%  \\\n",
       "Length                 74014.0   1.317759   0.287397  0.187500   1.150000   \n",
       "Diameter               74014.0   1.024741   0.237112  0.137500   0.887500   \n",
       "Height                 74014.0   0.348258   0.091749  0.025000   0.300000   \n",
       "Weight                 74014.0  23.393817  12.643249  0.056699  13.437663   \n",
       "Shucked Weight         74014.0  10.107991   5.615972  0.028349   5.712424   \n",
       "Viscera Weight         74014.0   5.060183   2.791658  0.042524   2.877474   \n",
       "Shell Weight           74014.0   6.726378   3.582962  0.042524   3.968930   \n",
       "Log Weight             74014.0   2.924723   0.803659 -2.869999   2.598061   \n",
       "Volume                 74014.0   0.540454   0.300555  0.000645   0.303555   \n",
       "Log Volume             74014.0  -0.860861   0.842555 -7.346987  -1.192194   \n",
       "Density                74014.0  44.443027   6.255446  5.070428  40.732873   \n",
       "Diameter_Height_Ratio  74014.0   2.981982   0.305251  0.314159   2.794118   \n",
       "Shell_Weight_Ratio     74014.0   0.292895   0.040041  0.075472   0.267648   \n",
       "Shape                  74014.0   0.438043   0.053992  0.153740   0.407424   \n",
       "\n",
       "                             50%        75%         max  \n",
       "Length                  1.375000   1.537500    2.012815  \n",
       "Diameter                1.075000   1.200000    1.612500  \n",
       "Height                  0.362500   0.412500    2.825000  \n",
       "Weight                 23.799405  32.162508   80.101512  \n",
       "Shucked Weight          9.908150  14.033003   42.184056  \n",
       "Viscera Weight          4.989512   7.002326   21.545620  \n",
       "Shell Weight            6.945627   9.071840   28.491248  \n",
       "Log Weight              3.169661   3.470801    4.383295  \n",
       "Volume                  0.544430   0.755305    3.321141  \n",
       "Log Volume             -0.608016  -0.280634    1.200308  \n",
       "Density                43.762588  47.221606  323.604584  \n",
       "Diameter_Height_Ratio   2.966667   3.151515    7.400000  \n",
       "Shell_Weight_Ratio      0.288896   0.314208    2.615672  \n",
       "Shape                   0.434137   0.463869    4.079746  "
      ]
     },
     "metadata": {},
     "output_type": "display_data"
    }
   ],
   "source": [
    "# select a subset of data for large dataset\n",
    "n_samples=45000\n",
    "data_eng = data.copy()#.sample(n_samples, random_state=42)\n",
    "\n",
    "\n",
    "# data_eng['Length_Height'] = data_eng['Length']/data_eng['Height']\n",
    "# data_eng['Viscera_Weight_Ratio'] = data_eng['Viscera Weight']/data_eng['Weight']\n",
    "# data_eng['Log Volume'] = np.log(data_eng['Volume'])\n",
    "\n",
    "# define the target column in the train dataset\n",
    "# split columns into X and y\n",
    "target = 'Age'\n",
    "data_eng['Log Weight'] = np.log(data_eng['Weight'])\n",
    "data_eng['Volume'] = data_eng['Length']*data_eng['Diameter']*data_eng['Height']\n",
    "data_eng['Log Volume'] = np.log(data_eng['Length']*data_eng['Diameter']*data_eng['Height'])\n",
    "data_eng['Density'] = data_eng['Weight']/(data_eng['Height']*data_eng['Length']*data_eng['Diameter'])\n",
    "data_eng['Diameter_Height_Ratio'] = data_eng['Diameter']/data_eng['Height']\n",
    "data_eng['Shell_Weight_Ratio'] = data_eng['Shell Weight']/data_eng['Weight']\n",
    "data_eng['Shape'] = data_eng['Length']*data_eng['Height']/(data_eng['Diameter']**2)\n",
    "\n",
    "data_eng = data_eng[data_eng.Height>0][data_eng.Diameter_Height_Ratio<7.5]#[data_eng.Sex=='F']\n",
    "\n",
    "X = data_eng.drop(columns=target).copy()\n",
    "y = data_eng[target]\n",
    "# check the shape of the data\n",
    "print(f'shape of X is \\033[94m{X.shape}\\033[0m, hape of y is \\033[94m{y.shape}\\033[0m')\n",
    "display(X.describe().T)\n",
    "\n",
    "# features_to_drop = ['Diameter', 'Height', 'Shucked Weight', 'Viscera Weight','Length', 'Shell Weight', ]\n",
    "\n",
    "features_to_drop=[]\n",
    "\n",
    "X = X.drop(columns=features_to_drop)\n",
    "display(X.describe().T)"
   ]
  },
  {
   "cell_type": "markdown",
   "id": "90bc8404",
   "metadata": {
    "ExecuteTime": {
     "end_time": "2023-05-24T06:02:58.238855Z",
     "start_time": "2023-05-24T06:02:58.236116Z"
    },
    "heading_collapsed": true
   },
   "source": [
    "## Feature Screening & Selection"
   ]
  },
  {
   "cell_type": "code",
   "execution_count": 210,
   "id": "2d330426",
   "metadata": {
    "ExecuteTime": {
     "end_time": "2023-06-12T01:54:13.558084Z",
     "start_time": "2023-06-12T01:54:13.536485Z"
    },
    "hidden": true
   },
   "outputs": [
    {
     "name": "stdout",
     "output_type": "stream",
     "text": [
      "All features (\u001b[95m15\u001b[0m): \u001b[94m['Density', 'Diameter', 'Diameter_Height_Ratio', 'Height', 'Length', 'Log Volume', 'Log Weight', 'Sex', 'Shape', 'Shell Weight', 'Shell_Weight_Ratio', 'Shucked Weight', 'Viscera Weight', 'Volume', 'Weight']\u001b[0m\n",
      "Features to drop (\u001b[91m0\u001b[0m): \u001b[94m[]\u001b[0m\n",
      "Categorical cat features (\u001b[95m1\u001b[0m): \u001b[94m['Sex']\u001b[0m\n",
      "Ordinal cat features (\u001b[95m0\u001b[0m): \u001b[94m[]\u001b[0m\n",
      "None-ordinal cat features (\u001b[95m1\u001b[0m): \u001b[94m['Sex']\u001b[0m\n",
      "Numercial features (\u001b[95m14\u001b[0m): \u001b[94m['Length', 'Diameter', 'Height', 'Weight', 'Shucked Weight', 'Viscera Weight', 'Shell Weight', 'Log Weight', 'Volume', 'Log Volume', 'Density', 'Diameter_Height_Ratio', 'Shell_Weight_Ratio', 'Shape']\u001b[0m\n"
     ]
    }
   ],
   "source": [
    "features_all = X.columns.sort_values().to_list()\n",
    "\n",
    "feature_numerical = X.select_dtypes(exclude='object').columns.to_list()\n",
    "\n",
    "feature_categorical = X.select_dtypes(include='object').columns.to_list()\n",
    "\n",
    "feature_categorical_Ordinal = []\n",
    "\n",
    "feature_categorical_OneHot = [key for key in feature_categorical \n",
    "                              if key not in feature_categorical_Ordinal]\n",
    "\n",
    "print(f'All features (\\033[95m{len(features_all)}\\\n",
    "\\033[0m): \\033[94m{features_all}\\033[0m')\n",
    "\n",
    "print(f'Features to drop (\\033[91m{len(features_to_drop)}\\\n",
    "\\033[0m): \\033[94m{features_to_drop}\\033[0m')\n",
    "\n",
    "print(f'Categorical cat features (\\033[95m{len(feature_categorical)}\\\n",
    "\\033[0m): \\033[94m{feature_categorical}\\033[0m')\n",
    "\n",
    "print(f'Ordinal cat features (\\033[95m{len(feature_categorical_Ordinal)}\\\n",
    "\\033[0m): \\033[94m{feature_categorical_Ordinal}\\033[0m')\n",
    "\n",
    "print(f'None-ordinal cat features (\\033[95m{len(feature_categorical_OneHot)}\\\n",
    "\\033[0m): \\033[94m{feature_categorical_OneHot}\\033[0m')\n",
    "\n",
    "print(f'Numercial features (\\033[95m{len(feature_numerical)}\\\n",
    "\\033[0m): \\033[94m{feature_numerical}\\033[0m')"
   ]
  },
  {
   "cell_type": "markdown",
   "id": "92d3009a",
   "metadata": {},
   "source": [
    "# Data Exploration"
   ]
  },
  {
   "cell_type": "markdown",
   "id": "5c56c619",
   "metadata": {},
   "source": [
    "## Numerical Features"
   ]
  },
  {
   "cell_type": "markdown",
   "id": "31561c46",
   "metadata": {
    "ExecuteTime": {
     "end_time": "2023-05-25T16:08:53.225441Z",
     "start_time": "2023-05-25T16:08:53.222478Z"
    },
    "heading_collapsed": true
   },
   "source": [
    "### Overview"
   ]
  },
  {
   "cell_type": "code",
   "execution_count": 5,
   "id": "8d3a1798",
   "metadata": {
    "ExecuteTime": {
     "end_time": "2023-06-11T16:05:10.108468Z",
     "start_time": "2023-06-11T16:05:09.418765Z"
    },
    "hidden": true,
    "scrolled": false
   },
   "outputs": [
    {
     "name": "stdout",
     "output_type": "stream",
     "text": [
      "Numercial features (\u001b[95m8\u001b[0m): \u001b[94m['Length', 'Diameter', 'Height', 'Weight', 'Shucked Weight', 'Viscera Weight', 'Shell Weight', 'Diameter_Height_Ratio']\u001b[0m\n"
     ]
    },
    {
     "data": {
      "image/png": "[encoded data removed]",
      "text/plain": [
       "<Figure size 1600x2000 with 9 Axes>"
      ]
     },
     "metadata": {},
     "output_type": "display_data"
    }
   ],
   "source": [
    "print(f'Numercial features (\\033[95m{len(feature_numerical)}\\\n",
    "\\033[0m): \\033[94m{feature_numerical}\\033[0m')\n",
    "\n",
    "X[feature_numerical].hist(\n",
    "    figsize=(16, 20), \n",
    "    bins=50, \n",
    "    xlabelsize=8, \n",
    "    ylabelsize=8);"
   ]
  },
  {
   "cell_type": "markdown",
   "id": "1b6c83a6",
   "metadata": {
    "ExecuteTime": {
     "end_time": "2023-05-25T16:00:17.672824Z",
     "start_time": "2023-05-25T16:00:17.669972Z"
    },
    "heading_collapsed": true
   },
   "source": [
    "### Corrilations"
   ]
  },
  {
   "cell_type": "code",
   "execution_count": 195,
   "id": "9afb89b7",
   "metadata": {
    "ExecuteTime": {
     "end_time": "2023-06-12T01:48:36.761640Z",
     "start_time": "2023-06-12T01:48:36.578440Z"
    },
    "hidden": true
   },
   "outputs": [
    {
     "data": {
      "image/png": "[encoded data removed]",
      "text/plain": [
       "<Figure size 640x480 with 2 Axes>"
      ]
     },
     "metadata": {},
     "output_type": "display_data"
    }
   ],
   "source": [
    "X_num = X[feature_numerical].dropna()\n",
    "\n",
    "sns.heatmap(X_num.corr(), cmap='PuRd')\n",
    "pca = PCA()\n",
    "X_scaled = StandardScaler().fit_transform(X_num)\n",
    "X_pca = pca.fit_transform(X_scaled)"
   ]
  },
  {
   "cell_type": "markdown",
   "id": "76ed8af3",
   "metadata": {
    "heading_collapsed": true
   },
   "source": [
    "### Principal components Analysis"
   ]
  },
  {
   "cell_type": "code",
   "execution_count": 196,
   "id": "366f016e",
   "metadata": {
    "ExecuteTime": {
     "end_time": "2023-06-12T01:48:40.944134Z",
     "start_time": "2023-06-12T01:48:40.849309Z"
    },
    "hidden": true
   },
   "outputs": [
    {
     "data": {
      "image/png": "[encoded data removed]",
      "text/plain": [
       "<Figure size 1000x600 with 1 Axes>"
      ]
     },
     "metadata": {},
     "output_type": "display_data"
    }
   ],
   "source": [
    "with plt.style.context('seaborn-deep'):\n",
    "    \n",
    "    # figsize\n",
    "    plt.figure(figsize=(10,6))\n",
    "    \n",
    "    # getting axes\n",
    "    ax = plt.gca()\n",
    "    \n",
    "    # plotting\n",
    "    evr_cumulated = np.cumsum(pca.explained_variance_ratio_)\n",
    "    x_axis_ticks = np.arange(1,evr_cumulated.shape[0]+1)\n",
    "    ax.plot(x_axis_ticks,evr_cumulated,label=\"cumulated variance ratio\",\n",
    "            color=\"purple\",linestyle=\":\",marker=\"D\",markersize=10)\n",
    "    \n",
    "    \n",
    "    # customizing\n",
    "    ax.set_xlabel('Number of Principal Components')\n",
    "    ax.set_ylabel('% cumulated explained variance')\n",
    "    ax.legend(loc=\"upper left\")\n",
    "    ax.set_title('The Elbow Method')\n",
    "    ax.set_xticks(x_axis_ticks)\n",
    "    ax.grid(axis=\"x\",linewidth=0.5)\n",
    "    ax.grid(axis=\"y\",linewidth=0.5)"
   ]
  },
  {
   "cell_type": "markdown",
   "id": "46e4e86a",
   "metadata": {
    "heading_collapsed": true
   },
   "source": [
    "## Catigorical Features"
   ]
  },
  {
   "cell_type": "markdown",
   "id": "a2fe86c2",
   "metadata": {
    "ExecuteTime": {
     "end_time": "2023-05-25T16:18:49.528798Z",
     "start_time": "2023-05-25T16:18:49.525715Z"
    },
    "heading_collapsed": true,
    "hidden": true
   },
   "source": [
    "### Overview"
   ]
  },
  {
   "cell_type": "code",
   "execution_count": null,
   "id": "df036e03",
   "metadata": {
    "ExecuteTime": {
     "end_time": "2023-06-10T15:48:42.878453Z",
     "start_time": "2023-06-10T15:48:42.399967Z"
    },
    "hidden": true,
    "scrolled": false
   },
   "outputs": [],
   "source": [
    "plot_list=feature_categorical\n",
    "\n",
    "print(f'Categorical cat features (\\033[95m{len(plot_list)}\\\n",
    "\\033[0m): \\033[94m{plot_list}\\033[0m')\n",
    "\n",
    "num_cols = 2  # Number of columns in the grid\n",
    "\n",
    "num_rows = (len(plot_list) - 1) // num_cols + 1  # Number of rows in the grid\n",
    "\n",
    "fig, axes = plt.subplots(num_rows, num_cols, figsize=(4*num_cols, 4*num_rows))\n",
    "\n",
    "# Plot each categorical feature\n",
    "for i, feature in enumerate(plot_list):\n",
    "    ax = axes[i // num_cols, i % num_cols] if num_rows > 1 else axes[i % num_cols]\n",
    "    sns.histplot(data=X, x=feature, kde=False, ax=ax)\n",
    "\n",
    "# Hide unused subplots\n",
    "if len(plot_list) < num_rows * num_cols:\n",
    "    for j in range(len(plot_list), num_rows * num_cols):\n",
    "        axes[j // num_cols, j % num_cols].axis('off')\n",
    "\n",
    "plt.tight_layout()\n",
    "plt.show()"
   ]
  },
  {
   "cell_type": "markdown",
   "id": "42eccf00",
   "metadata": {
    "ExecuteTime": {
     "end_time": "2023-05-25T16:07:37.467818Z",
     "start_time": "2023-05-25T16:07:37.463389Z"
    },
    "heading_collapsed": true,
    "hidden": true
   },
   "source": [
    "### Catigorical Ordinal Features"
   ]
  },
  {
   "cell_type": "code",
   "execution_count": null,
   "id": "88e9ffae",
   "metadata": {
    "ExecuteTime": {
     "end_time": "2023-06-10T15:48:52.105878Z",
     "start_time": "2023-06-10T15:48:52.096217Z"
    },
    "hidden": true
   },
   "outputs": [],
   "source": [
    "plot_list = feature_categorical_Ordinal\n",
    "\n",
    "print(f'Categorical cat features (\\033[94m{len(plot_list)}\\\n",
    "\\033[0m): \\033[94m{plot_list}\\033[0m')\n",
    "\n",
    "if len(plot_list)>0:\n",
    "    # Assuming 'X' is your DataFrame\n",
    "    num_cols = 4  # Number of columns in the grid\n",
    "    num_rows = (len(plot_list) - 1) // num_cols + 1  # Number of rows in the grid\n",
    "\n",
    "    fig, axes = plt.subplots(num_rows, num_cols, figsize=(4*num_cols, 4*num_rows))\n",
    "\n",
    "    # Plot each categorical feature\n",
    "    for i, feature in enumerate(plot_list):\n",
    "        ax = axes[i // num_cols, i % num_cols] if num_rows > 1 else axes[i % num_cols]\n",
    "        sns.histplot(data=X, x=feature, kde=False, ax=ax)\n",
    "\n",
    "    # Hide unused subplots\n",
    "    if len(plot_list) < num_rows * num_cols:\n",
    "        for j in range(len(plot_list), num_rows * num_cols):\n",
    "            axes[j // num_cols, j % num_cols].axis('off')\n",
    "\n",
    "    plt.tight_layout()\n",
    "    plt.show()"
   ]
  },
  {
   "cell_type": "code",
   "execution_count": null,
   "id": "59d7c7b9",
   "metadata": {
    "ExecuteTime": {
     "end_time": "2023-06-10T15:49:45.162942Z",
     "start_time": "2023-06-10T15:49:44.889339Z"
    },
    "hidden": true
   },
   "outputs": [],
   "source": [
    "plot_list=feature_categorical_OneHot\n",
    "\n",
    "print(f'Categorical cat features (\\033[94m{len(plot_list)}\\\n",
    "\\033[0m): \\033[94m{plot_list}\\033[0m')\n",
    "\n",
    "if len(plot_list)>0:\n",
    "    # Assuming 'X' is your DataFrame\n",
    "    num_cols = 4  # Number of columns in the grid\n",
    "    num_rows = (len(plot_list) - 1) // num_cols + 1  # Number of rows in the grid\n",
    "\n",
    "    fig, axes = plt.subplots(num_rows, num_cols, figsize=(3*num_cols, 2*num_rows))\n",
    "\n",
    "    # Plot each categorical feature\n",
    "    for i, feature in enumerate(plot_list):\n",
    "        ax = axes[i // num_cols, i % num_cols] if num_rows > 1 else axes[i % num_cols]\n",
    "        sns.histplot(data=X, x=feature, kde=False, ax=ax)\n",
    "\n",
    "    # Hide unused subplots\n",
    "    if len(plot_list) < num_rows * num_cols:\n",
    "        for j in range(len(plot_list), num_rows * num_cols):\n",
    "            axes[j // num_cols, j % num_cols].axis('off')\n",
    "\n",
    "    plt.tight_layout()\n",
    "    plt.show()"
   ]
  },
  {
   "cell_type": "markdown",
   "id": "7904e8d6",
   "metadata": {
    "heading_collapsed": true,
    "hidden": true
   },
   "source": [
    "### Catigorical Ordinal Features Mapping"
   ]
  },
  {
   "cell_type": "code",
   "execution_count": null,
   "id": "9c602ee7",
   "metadata": {
    "hidden": true
   },
   "outputs": [],
   "source": [
    "# feat_ordinal_dict = {\n",
    "#     # considers \"missing\" as the worse category\n",
    "#     \"BsmtCond\": ['missing', 'Po', 'Fa', 'TA', 'Gd'],\n",
    "# #     \"BsmtExposure\": ['missing', 'No', 'Mn', 'Av', 'Gd'],\n",
    "# #     \"BsmtFinType1\": ['missing', 'Unf', 'LwQ', 'Rec', 'BLQ', 'ALQ', 'GLQ'],\n",
    "# #     \"BsmtFinType2\": ['missing', 'Unf', 'LwQ', 'Rec', 'BLQ', 'ALQ', 'GLQ'],\n",
    "#     \"BsmtQual\": ['missing', 'Fa', 'TA', 'Gd', 'Ex'],\n",
    "# #     \"Electrical\": ['missing', 'Mix', 'FuseP', 'FuseF', 'FuseA', 'SBrkr'],\n",
    "#     \"ExterCond\": ['missing', 'Po', 'Fa', 'TA', 'Gd', 'Ex'],\n",
    "#     \"ExterQual\": ['missing', 'Fa', 'TA', 'Gd', 'Ex'],\n",
    "# #     \"Fence\": ['missing', 'MnWw', 'GdWo', 'MnPrv', 'GdPrv'],\n",
    "#     \"FireplaceQu\": ['missing', 'Po', 'Fa', 'TA', 'Gd', 'Ex'],\n",
    "# #     \"Functional\": ['missing', 'Sev', 'Maj2', 'Maj1', 'Mod', 'Min2', 'Min1', 'Typ'],\n",
    "# #     \"GarageCond\": ['missing', 'Po', 'Fa', 'TA', 'Gd', 'Ex'],\n",
    "# #     \"GarageFinish\": ['missing', 'Unf', 'RFn', 'Fin'],\n",
    "# #     \"GarageQual\": ['missing', 'Po', 'Fa', 'TA', 'Gd', 'Ex'],\n",
    "#     \"HeatingQC\": ['missing', 'Po', 'Fa', 'TA', 'Gd', 'Ex'],\n",
    "#     \"KitchenQual\": ['missing', 'Fa', 'TA', 'Gd', 'Ex']\n",
    "# #     \"LandContour\": ['missing', 'Low', 'Bnk', 'HLS', 'Lvl'],\n",
    "# #     \"LandSlope\": ['missing', 'Sev', 'Mod', 'Gtl'],\n",
    "# #     \"LotShape\": ['missing', 'IR3', 'IR2', 'IR1', 'Reg'],\n",
    "# #     \"PavedDrive\": ['missing', 'N', 'P', 'Y'],\n",
    "# #     \"PoolQC\": ['missing', 'Fa', 'Gd', 'Ex'],\n",
    "# }\n",
    "\n",
    "\n",
    "# ordinal_features = list(feat_ordinal_dict.keys())\n",
    "# ordinal_values = list(feat_ordinal_dict.values())"
   ]
  },
  {
   "cell_type": "markdown",
   "id": "ce223569",
   "metadata": {
    "heading_collapsed": true,
    "hidden": true
   },
   "source": [
    "### Catigorical OneHot Features"
   ]
  },
  {
   "cell_type": "code",
   "execution_count": null,
   "id": "f4ac0629",
   "metadata": {
    "ExecuteTime": {
     "end_time": "2023-06-10T15:49:56.604127Z",
     "start_time": "2023-06-10T15:49:55.948178Z"
    },
    "hidden": true
   },
   "outputs": [],
   "source": [
    "# list the number of categories of each OneHot feature\n",
    "feature_cat_value_count= X[feature_categorical_OneHot].nunique().sort_values(ascending=False)\n",
    "feature_cat_value_count=feature_cat_value_count[feature_cat_value_count>0]\n",
    "\n",
    "# visualize\n",
    "plt.figure(figsize=(8, feature_cat_value_count.shape[0]/4))\n",
    "feature_ranks = range(len(feature_null))\n",
    "bar = plt.barh(feature_cat_value_count.index, feature_cat_value_count.values, label=[str(x) for x in feature_ranks])\n",
    "plt.gca().invert_yaxis()\n",
    "plt.xlabel('%')\n",
    "plt.title(\"Number of unique categories\")\n",
    "plt.tight_layout()\n",
    "plt.grid(axis='x')\n",
    "plt.show()"
   ]
  },
  {
   "cell_type": "markdown",
   "id": "bfffd311",
   "metadata": {},
   "source": [
    "# Data Preprocessing"
   ]
  },
  {
   "cell_type": "markdown",
   "id": "e1f8a257",
   "metadata": {
    "heading_collapsed": true
   },
   "source": [
    "## A custom pipeline for Feature Engineering"
   ]
  },
  {
   "cell_type": "code",
   "execution_count": null,
   "id": "60be3422",
   "metadata": {
    "ExecuteTime": {
     "end_time": "2023-06-11T16:02:52.506785Z",
     "start_time": "2023-06-11T16:02:52.502376Z"
    },
    "hidden": true
   },
   "outputs": [],
   "source": [
    "class FeatureCreator(BaseEstimator, TransformerMixin):\n",
    "    def __init__(self, add_attributes=True):\n",
    "        \n",
    "        self.add_attributes = add_attributes\n",
    "        \n",
    "    def fit(self, X, y=None):\n",
    "        \n",
    "        return self\n",
    "    \n",
    "    def transform(self, X):\n",
    "        \n",
    "        if self.add_attributes:\n",
    "            X_copy = X.copy()\n",
    "            \n",
    "            X_copy['Diameter_Height_Ratio'] = X_copy['Diameter']/X_copy['Height']\n",
    "#             X_copy [\"Volume\"] = X_copy[\"Height\"] * X_copy[\"Diameter\"] * X_copy[\"Length\"]\n",
    "#             X_copy [\"dim1\"] = X_copy[\"Height\"] * X_copy[\"Diameter\"] \n",
    "#             X_copy [\"dim2\"] = X_copy[\"Height\"] * X_copy[\"Length\"] \n",
    "#             X_copy [\"dim3\"] = X_copy[\"Diameter\"] * X_copy[\"Length\"]\n",
    "#             X_copy [\"total_weight\"] = X_copy[\"Shell Weight\"] + X_copy[\"Viscera Weight\"] + X_copy[\"Shucked Weight\"]\n",
    "#             X_copy [\"weight_volume_ratio\"] = X_copy[\"Weight\"] / (X_copy[\"Diameter\"] + 1e-8 )\n",
    "#             X_copy [\"shell_to_total_weight\"] = X_copy[\"Shell Weight\"] / X_copy[\"Weight\"]\n",
    "#             X_copy [\"viscera_to_total_weight\"] = X_copy[\"Viscera Weight\"] / X_copy[\"Weight\"]\n",
    "#             X_copy [\"shucked_to_total_weight\"] = X_copy[\"Shucked Weight\"] / X_copy[\"Weight\"]\n",
    "            \n",
    "            return X_copy\n",
    "        else:\n",
    "            return X_copy\n",
    "\n",
    "Creator = FeatureCreator(add_attributes = True)"
   ]
  },
  {
   "cell_type": "markdown",
   "id": "f7284b4e",
   "metadata": {},
   "source": [
    "## Preprocessing Pipeline"
   ]
  },
  {
   "cell_type": "code",
   "execution_count": 211,
   "id": "0e2d6bf9",
   "metadata": {
    "ExecuteTime": {
     "end_time": "2023-06-12T01:54:19.578797Z",
     "start_time": "2023-06-12T01:54:19.433500Z"
    }
   },
   "outputs": [
    {
     "data": {
      "text/html": [
       "<style>#sk-container-id-24 {color: black;background-color: white;}#sk-container-id-24 pre{padding: 0;}#sk-container-id-24 div.sk-toggleable {background-color: white;}#sk-container-id-24 label.sk-toggleable__label {cursor: pointer;display: block;width: 100%;margin-bottom: 0;padding: 0.3em;box-sizing: border-box;text-align: center;}#sk-container-id-24 label.sk-toggleable__label-arrow:before {content: \"▸\";float: left;margin-right: 0.25em;color: #696969;}#sk-container-id-24 label.sk-toggleable__label-arrow:hover:before {color: black;}#sk-container-id-24 div.sk-estimator:hover label.sk-toggleable__label-arrow:before {color: black;}#sk-container-id-24 div.sk-toggleable__content {max-height: 0;max-width: 0;overflow: hidden;text-align: left;background-color: #f0f8ff;}#sk-container-id-24 div.sk-toggleable__content pre {margin: 0.2em;color: black;border-radius: 0.25em;background-color: #f0f8ff;}#sk-container-id-24 input.sk-toggleable__control:checked~div.sk-toggleable__content {max-height: 200px;max-width: 100%;overflow: auto;}#sk-container-id-24 input.sk-toggleable__control:checked~label.sk-toggleable__label-arrow:before {content: \"▾\";}#sk-container-id-24 div.sk-estimator input.sk-toggleable__control:checked~label.sk-toggleable__label {background-color: #d4ebff;}#sk-container-id-24 div.sk-label input.sk-toggleable__control:checked~label.sk-toggleable__label {background-color: #d4ebff;}#sk-container-id-24 input.sk-hidden--visually {border: 0;clip: rect(1px 1px 1px 1px);clip: rect(1px, 1px, 1px, 1px);height: 1px;margin: -1px;overflow: hidden;padding: 0;position: absolute;width: 1px;}#sk-container-id-24 div.sk-estimator {font-family: monospace;background-color: #f0f8ff;border: 1px dotted black;border-radius: 0.25em;box-sizing: border-box;margin-bottom: 0.5em;}#sk-container-id-24 div.sk-estimator:hover {background-color: #d4ebff;}#sk-container-id-24 div.sk-parallel-item::after {content: \"\";width: 100%;border-bottom: 1px solid gray;flex-grow: 1;}#sk-container-id-24 div.sk-label:hover label.sk-toggleable__label {background-color: #d4ebff;}#sk-container-id-24 div.sk-serial::before {content: \"\";position: absolute;border-left: 1px solid gray;box-sizing: border-box;top: 0;bottom: 0;left: 50%;z-index: 0;}#sk-container-id-24 div.sk-serial {display: flex;flex-direction: column;align-items: center;background-color: white;padding-right: 0.2em;padding-left: 0.2em;position: relative;}#sk-container-id-24 div.sk-item {position: relative;z-index: 1;}#sk-container-id-24 div.sk-parallel {display: flex;align-items: stretch;justify-content: center;background-color: white;position: relative;}#sk-container-id-24 div.sk-item::before, #sk-container-id-24 div.sk-parallel-item::before {content: \"\";position: absolute;border-left: 1px solid gray;box-sizing: border-box;top: 0;bottom: 0;left: 50%;z-index: -1;}#sk-container-id-24 div.sk-parallel-item {display: flex;flex-direction: column;z-index: 1;position: relative;background-color: white;}#sk-container-id-24 div.sk-parallel-item:first-child::after {align-self: flex-end;width: 50%;}#sk-container-id-24 div.sk-parallel-item:last-child::after {align-self: flex-start;width: 50%;}#sk-container-id-24 div.sk-parallel-item:only-child::after {width: 0;}#sk-container-id-24 div.sk-dashed-wrapped {border: 1px dashed gray;margin: 0 0.4em 0.5em 0.4em;box-sizing: border-box;padding-bottom: 0.4em;background-color: white;}#sk-container-id-24 div.sk-label label {font-family: monospace;font-weight: bold;display: inline-block;line-height: 1.2em;}#sk-container-id-24 div.sk-label-container {text-align: center;}#sk-container-id-24 div.sk-container {/* jupyter's `normalize.less` sets `[hidden] { display: none; }` but bootstrap.min.css set `[hidden] { display: none !important; }` so we also need the `!important` here to be able to override the default hidden behavior on the sphinx rendered scikit-learn.org. See: https://github.com/scikit-learn/scikit-learn/issues/21755 */display: inline-block !important;position: relative;}#sk-container-id-24 div.sk-text-repr-fallback {display: none;}</style><div id=\"sk-container-id-24\" class=\"sk-top-container\"><div class=\"sk-text-repr-fallback\"><pre>ColumnTransformer(transformers=[(&#x27;pipeline-1&#x27;,\n",
       "                                 Pipeline(steps=[(&#x27;robustscaler&#x27;,\n",
       "                                                  RobustScaler())]),\n",
       "                                 [&#x27;Length&#x27;, &#x27;Diameter&#x27;, &#x27;Height&#x27;, &#x27;Weight&#x27;,\n",
       "                                  &#x27;Shucked Weight&#x27;, &#x27;Viscera Weight&#x27;,\n",
       "                                  &#x27;Shell Weight&#x27;, &#x27;Log Weight&#x27;, &#x27;Volume&#x27;,\n",
       "                                  &#x27;Log Volume&#x27;, &#x27;Density&#x27;,\n",
       "                                  &#x27;Diameter_Height_Ratio&#x27;, &#x27;Shell_Weight_Ratio&#x27;,\n",
       "                                  &#x27;Shape&#x27;]),\n",
       "                                (&#x27;pipeline-2&#x27;,\n",
       "                                 Pipeline(steps=[(&#x27;onehotencoder&#x27;,\n",
       "                                                  OneHotEncoder(drop=&#x27;if_binary&#x27;,\n",
       "                                                                handle_unknown=&#x27;ignore&#x27;,\n",
       "                                                                sparse_output=False))]),\n",
       "                                 [&#x27;Sex&#x27;])])</pre><b>In a Jupyter environment, please rerun this cell to show the HTML representation or trust the notebook. <br />On GitHub, the HTML representation is unable to render, please try loading this page with nbviewer.org.</b></div><div class=\"sk-container\" hidden><div class=\"sk-item sk-dashed-wrapped\"><div class=\"sk-label-container\"><div class=\"sk-label sk-toggleable\"><input class=\"sk-toggleable__control sk-hidden--visually\" id=\"sk-estimator-id-112\" type=\"checkbox\" ><label for=\"sk-estimator-id-112\" class=\"sk-toggleable__label sk-toggleable__label-arrow\">ColumnTransformer</label><div class=\"sk-toggleable__content\"><pre>ColumnTransformer(transformers=[(&#x27;pipeline-1&#x27;,\n",
       "                                 Pipeline(steps=[(&#x27;robustscaler&#x27;,\n",
       "                                                  RobustScaler())]),\n",
       "                                 [&#x27;Length&#x27;, &#x27;Diameter&#x27;, &#x27;Height&#x27;, &#x27;Weight&#x27;,\n",
       "                                  &#x27;Shucked Weight&#x27;, &#x27;Viscera Weight&#x27;,\n",
       "                                  &#x27;Shell Weight&#x27;, &#x27;Log Weight&#x27;, &#x27;Volume&#x27;,\n",
       "                                  &#x27;Log Volume&#x27;, &#x27;Density&#x27;,\n",
       "                                  &#x27;Diameter_Height_Ratio&#x27;, &#x27;Shell_Weight_Ratio&#x27;,\n",
       "                                  &#x27;Shape&#x27;]),\n",
       "                                (&#x27;pipeline-2&#x27;,\n",
       "                                 Pipeline(steps=[(&#x27;onehotencoder&#x27;,\n",
       "                                                  OneHotEncoder(drop=&#x27;if_binary&#x27;,\n",
       "                                                                handle_unknown=&#x27;ignore&#x27;,\n",
       "                                                                sparse_output=False))]),\n",
       "                                 [&#x27;Sex&#x27;])])</pre></div></div></div><div class=\"sk-parallel\"><div class=\"sk-parallel-item\"><div class=\"sk-item\"><div class=\"sk-label-container\"><div class=\"sk-label sk-toggleable\"><input class=\"sk-toggleable__control sk-hidden--visually\" id=\"sk-estimator-id-113\" type=\"checkbox\" ><label for=\"sk-estimator-id-113\" class=\"sk-toggleable__label sk-toggleable__label-arrow\">pipeline-1</label><div class=\"sk-toggleable__content\"><pre>[&#x27;Length&#x27;, &#x27;Diameter&#x27;, &#x27;Height&#x27;, &#x27;Weight&#x27;, &#x27;Shucked Weight&#x27;, &#x27;Viscera Weight&#x27;, &#x27;Shell Weight&#x27;, &#x27;Log Weight&#x27;, &#x27;Volume&#x27;, &#x27;Log Volume&#x27;, &#x27;Density&#x27;, &#x27;Diameter_Height_Ratio&#x27;, &#x27;Shell_Weight_Ratio&#x27;, &#x27;Shape&#x27;]</pre></div></div></div><div class=\"sk-serial\"><div class=\"sk-item\"><div class=\"sk-serial\"><div class=\"sk-item\"><div class=\"sk-estimator sk-toggleable\"><input class=\"sk-toggleable__control sk-hidden--visually\" id=\"sk-estimator-id-114\" type=\"checkbox\" ><label for=\"sk-estimator-id-114\" class=\"sk-toggleable__label sk-toggleable__label-arrow\">RobustScaler</label><div class=\"sk-toggleable__content\"><pre>RobustScaler()</pre></div></div></div></div></div></div></div></div><div class=\"sk-parallel-item\"><div class=\"sk-item\"><div class=\"sk-label-container\"><div class=\"sk-label sk-toggleable\"><input class=\"sk-toggleable__control sk-hidden--visually\" id=\"sk-estimator-id-115\" type=\"checkbox\" ><label for=\"sk-estimator-id-115\" class=\"sk-toggleable__label sk-toggleable__label-arrow\">pipeline-2</label><div class=\"sk-toggleable__content\"><pre>[&#x27;Sex&#x27;]</pre></div></div></div><div class=\"sk-serial\"><div class=\"sk-item\"><div class=\"sk-serial\"><div class=\"sk-item\"><div class=\"sk-estimator sk-toggleable\"><input class=\"sk-toggleable__control sk-hidden--visually\" id=\"sk-estimator-id-116\" type=\"checkbox\" ><label for=\"sk-estimator-id-116\" class=\"sk-toggleable__label sk-toggleable__label-arrow\">OneHotEncoder</label><div class=\"sk-toggleable__content\"><pre>OneHotEncoder(drop=&#x27;if_binary&#x27;, handle_unknown=&#x27;ignore&#x27;, sparse_output=False)</pre></div></div></div></div></div></div></div></div></div></div></div></div>"
      ],
      "text/plain": [
       "ColumnTransformer(transformers=[('pipeline-1',\n",
       "                                 Pipeline(steps=[('robustscaler',\n",
       "                                                  RobustScaler())]),\n",
       "                                 ['Length', 'Diameter', 'Height', 'Weight',\n",
       "                                  'Shucked Weight', 'Viscera Weight',\n",
       "                                  'Shell Weight', 'Log Weight', 'Volume',\n",
       "                                  'Log Volume', 'Density',\n",
       "                                  'Diameter_Height_Ratio', 'Shell_Weight_Ratio',\n",
       "                                  'Shape']),\n",
       "                                ('pipeline-2',\n",
       "                                 Pipeline(steps=[('onehotencoder',\n",
       "                                                  OneHotEncoder(drop='if_binary',\n",
       "                                                                handle_unknown='ignore',\n",
       "                                                                sparse_output=False))]),\n",
       "                                 ['Sex'])])"
      ]
     },
     "metadata": {},
     "output_type": "display_data"
    },
    {
     "data": {
      "text/html": [
       "<div>\n",
       "<style scoped>\n",
       "    .dataframe tbody tr th:only-of-type {\n",
       "        vertical-align: middle;\n",
       "    }\n",
       "\n",
       "    .dataframe tbody tr th {\n",
       "        vertical-align: top;\n",
       "    }\n",
       "\n",
       "    .dataframe thead th {\n",
       "        text-align: right;\n",
       "    }\n",
       "</style>\n",
       "<table border=\"1\" class=\"dataframe\">\n",
       "  <thead>\n",
       "    <tr style=\"text-align: right;\">\n",
       "      <th></th>\n",
       "      <th>count</th>\n",
       "      <th>mean</th>\n",
       "      <th>std</th>\n",
       "      <th>min</th>\n",
       "      <th>25%</th>\n",
       "      <th>50%</th>\n",
       "      <th>75%</th>\n",
       "      <th>max</th>\n",
       "    </tr>\n",
       "  </thead>\n",
       "  <tbody>\n",
       "    <tr>\n",
       "      <th>pipeline-1__Length</th>\n",
       "      <td>74014.0</td>\n",
       "      <td>-0.147718</td>\n",
       "      <td>0.741670</td>\n",
       "      <td>-3.064516</td>\n",
       "      <td>-0.580645</td>\n",
       "      <td>0.000000e+00</td>\n",
       "      <td>0.419355</td>\n",
       "      <td>1.645973</td>\n",
       "    </tr>\n",
       "    <tr>\n",
       "      <th>pipeline-1__Diameter</th>\n",
       "      <td>74014.0</td>\n",
       "      <td>-0.160828</td>\n",
       "      <td>0.758758</td>\n",
       "      <td>-3.000000</td>\n",
       "      <td>-0.600000</td>\n",
       "      <td>0.000000e+00</td>\n",
       "      <td>0.400000</td>\n",
       "      <td>1.720000</td>\n",
       "    </tr>\n",
       "    <tr>\n",
       "      <th>pipeline-1__Height</th>\n",
       "      <td>74014.0</td>\n",
       "      <td>-0.126599</td>\n",
       "      <td>0.815542</td>\n",
       "      <td>-3.000000</td>\n",
       "      <td>-0.555556</td>\n",
       "      <td>0.000000e+00</td>\n",
       "      <td>0.444444</td>\n",
       "      <td>21.888889</td>\n",
       "    </tr>\n",
       "    <tr>\n",
       "      <th>pipeline-1__Weight</th>\n",
       "      <td>74014.0</td>\n",
       "      <td>-0.021660</td>\n",
       "      <td>0.675212</td>\n",
       "      <td>-1.267979</td>\n",
       "      <td>-0.553369</td>\n",
       "      <td>0.000000e+00</td>\n",
       "      <td>0.446631</td>\n",
       "      <td>3.006813</td>\n",
       "    </tr>\n",
       "    <tr>\n",
       "      <th>pipeline-1__Shucked Weight</th>\n",
       "      <td>74014.0</td>\n",
       "      <td>0.024018</td>\n",
       "      <td>0.674950</td>\n",
       "      <td>-1.187394</td>\n",
       "      <td>-0.504259</td>\n",
       "      <td>0.000000e+00</td>\n",
       "      <td>0.495741</td>\n",
       "      <td>3.879046</td>\n",
       "    </tr>\n",
       "    <tr>\n",
       "      <th>pipeline-1__Viscera Weight</th>\n",
       "      <td>74014.0</td>\n",
       "      <td>0.017133</td>\n",
       "      <td>0.676790</td>\n",
       "      <td>-1.199313</td>\n",
       "      <td>-0.512027</td>\n",
       "      <td>0.000000e+00</td>\n",
       "      <td>0.487973</td>\n",
       "      <td>4.013746</td>\n",
       "    </tr>\n",
       "    <tr>\n",
       "      <th>pipeline-1__Shell Weight</th>\n",
       "      <td>74014.0</td>\n",
       "      <td>-0.042965</td>\n",
       "      <td>0.702141</td>\n",
       "      <td>-1.352778</td>\n",
       "      <td>-0.583333</td>\n",
       "      <td>0.000000e+00</td>\n",
       "      <td>0.416667</td>\n",
       "      <td>4.222222</td>\n",
       "    </tr>\n",
       "    <tr>\n",
       "      <th>pipeline-1__Log Weight</th>\n",
       "      <td>74014.0</td>\n",
       "      <td>-0.280653</td>\n",
       "      <td>0.920845</td>\n",
       "      <td>-6.920342</td>\n",
       "      <td>-0.654948</td>\n",
       "      <td>0.000000e+00</td>\n",
       "      <td>0.345052</td>\n",
       "      <td>1.390602</td>\n",
       "    </tr>\n",
       "    <tr>\n",
       "      <th>pipeline-1__Volume</th>\n",
       "      <td>74014.0</td>\n",
       "      <td>-0.008801</td>\n",
       "      <td>0.665312</td>\n",
       "      <td>-1.203730</td>\n",
       "      <td>-0.533204</td>\n",
       "      <td>0.000000e+00</td>\n",
       "      <td>0.466796</td>\n",
       "      <td>6.146565</td>\n",
       "    </tr>\n",
       "    <tr>\n",
       "      <th>pipeline-1__Log Volume</th>\n",
       "      <td>74014.0</td>\n",
       "      <td>-0.277376</td>\n",
       "      <td>0.924300</td>\n",
       "      <td>-7.392793</td>\n",
       "      <td>-0.640855</td>\n",
       "      <td>0.000000e+00</td>\n",
       "      <td>0.359145</td>\n",
       "      <td>1.983770</td>\n",
       "    </tr>\n",
       "    <tr>\n",
       "      <th>pipeline-1__Density</th>\n",
       "      <td>74014.0</td>\n",
       "      <td>0.104865</td>\n",
       "      <td>0.964047</td>\n",
       "      <td>-5.962976</td>\n",
       "      <td>-0.466919</td>\n",
       "      <td>-5.475204e-16</td>\n",
       "      <td>0.533081</td>\n",
       "      <td>43.127367</td>\n",
       "    </tr>\n",
       "    <tr>\n",
       "      <th>pipeline-1__Diameter_Height_Ratio</th>\n",
       "      <td>74014.0</td>\n",
       "      <td>0.042852</td>\n",
       "      <td>0.854095</td>\n",
       "      <td>-7.421729</td>\n",
       "      <td>-0.482793</td>\n",
       "      <td>0.000000e+00</td>\n",
       "      <td>0.517207</td>\n",
       "      <td>12.404489</td>\n",
       "    </tr>\n",
       "    <tr>\n",
       "      <th>pipeline-1__Shell_Weight_Ratio</th>\n",
       "      <td>74014.0</td>\n",
       "      <td>0.085890</td>\n",
       "      <td>0.859997</td>\n",
       "      <td>-4.583888</td>\n",
       "      <td>-0.456351</td>\n",
       "      <td>0.000000e+00</td>\n",
       "      <td>0.543649</td>\n",
       "      <td>49.974171</td>\n",
       "    </tr>\n",
       "    <tr>\n",
       "      <th>pipeline-1__Shape</th>\n",
       "      <td>74014.0</td>\n",
       "      <td>0.069199</td>\n",
       "      <td>0.956548</td>\n",
       "      <td>-4.967672</td>\n",
       "      <td>-0.473264</td>\n",
       "      <td>0.000000e+00</td>\n",
       "      <td>0.526736</td>\n",
       "      <td>64.587515</td>\n",
       "    </tr>\n",
       "    <tr>\n",
       "      <th>pipeline-2__Sex_F</th>\n",
       "      <td>74014.0</td>\n",
       "      <td>0.310833</td>\n",
       "      <td>0.462838</td>\n",
       "      <td>0.000000</td>\n",
       "      <td>0.000000</td>\n",
       "      <td>0.000000e+00</td>\n",
       "      <td>1.000000</td>\n",
       "      <td>1.000000</td>\n",
       "    </tr>\n",
       "    <tr>\n",
       "      <th>pipeline-2__Sex_I</th>\n",
       "      <td>74014.0</td>\n",
       "      <td>0.323250</td>\n",
       "      <td>0.467720</td>\n",
       "      <td>0.000000</td>\n",
       "      <td>0.000000</td>\n",
       "      <td>0.000000e+00</td>\n",
       "      <td>1.000000</td>\n",
       "      <td>1.000000</td>\n",
       "    </tr>\n",
       "    <tr>\n",
       "      <th>pipeline-2__Sex_M</th>\n",
       "      <td>74014.0</td>\n",
       "      <td>0.365917</td>\n",
       "      <td>0.481690</td>\n",
       "      <td>0.000000</td>\n",
       "      <td>0.000000</td>\n",
       "      <td>0.000000e+00</td>\n",
       "      <td>1.000000</td>\n",
       "      <td>1.000000</td>\n",
       "    </tr>\n",
       "  </tbody>\n",
       "</table>\n",
       "</div>"
      ],
      "text/plain": [
       "                                     count      mean       std       min  \\\n",
       "pipeline-1__Length                 74014.0 -0.147718  0.741670 -3.064516   \n",
       "pipeline-1__Diameter               74014.0 -0.160828  0.758758 -3.000000   \n",
       "pipeline-1__Height                 74014.0 -0.126599  0.815542 -3.000000   \n",
       "pipeline-1__Weight                 74014.0 -0.021660  0.675212 -1.267979   \n",
       "pipeline-1__Shucked Weight         74014.0  0.024018  0.674950 -1.187394   \n",
       "pipeline-1__Viscera Weight         74014.0  0.017133  0.676790 -1.199313   \n",
       "pipeline-1__Shell Weight           74014.0 -0.042965  0.702141 -1.352778   \n",
       "pipeline-1__Log Weight             74014.0 -0.280653  0.920845 -6.920342   \n",
       "pipeline-1__Volume                 74014.0 -0.008801  0.665312 -1.203730   \n",
       "pipeline-1__Log Volume             74014.0 -0.277376  0.924300 -7.392793   \n",
       "pipeline-1__Density                74014.0  0.104865  0.964047 -5.962976   \n",
       "pipeline-1__Diameter_Height_Ratio  74014.0  0.042852  0.854095 -7.421729   \n",
       "pipeline-1__Shell_Weight_Ratio     74014.0  0.085890  0.859997 -4.583888   \n",
       "pipeline-1__Shape                  74014.0  0.069199  0.956548 -4.967672   \n",
       "pipeline-2__Sex_F                  74014.0  0.310833  0.462838  0.000000   \n",
       "pipeline-2__Sex_I                  74014.0  0.323250  0.467720  0.000000   \n",
       "pipeline-2__Sex_M                  74014.0  0.365917  0.481690  0.000000   \n",
       "\n",
       "                                        25%           50%       75%        max  \n",
       "pipeline-1__Length                -0.580645  0.000000e+00  0.419355   1.645973  \n",
       "pipeline-1__Diameter              -0.600000  0.000000e+00  0.400000   1.720000  \n",
       "pipeline-1__Height                -0.555556  0.000000e+00  0.444444  21.888889  \n",
       "pipeline-1__Weight                -0.553369  0.000000e+00  0.446631   3.006813  \n",
       "pipeline-1__Shucked Weight        -0.504259  0.000000e+00  0.495741   3.879046  \n",
       "pipeline-1__Viscera Weight        -0.512027  0.000000e+00  0.487973   4.013746  \n",
       "pipeline-1__Shell Weight          -0.583333  0.000000e+00  0.416667   4.222222  \n",
       "pipeline-1__Log Weight            -0.654948  0.000000e+00  0.345052   1.390602  \n",
       "pipeline-1__Volume                -0.533204  0.000000e+00  0.466796   6.146565  \n",
       "pipeline-1__Log Volume            -0.640855  0.000000e+00  0.359145   1.983770  \n",
       "pipeline-1__Density               -0.466919 -5.475204e-16  0.533081  43.127367  \n",
       "pipeline-1__Diameter_Height_Ratio -0.482793  0.000000e+00  0.517207  12.404489  \n",
       "pipeline-1__Shell_Weight_Ratio    -0.456351  0.000000e+00  0.543649  49.974171  \n",
       "pipeline-1__Shape                 -0.473264  0.000000e+00  0.526736  64.587515  \n",
       "pipeline-2__Sex_F                  0.000000  0.000000e+00  1.000000   1.000000  \n",
       "pipeline-2__Sex_I                  0.000000  0.000000e+00  1.000000   1.000000  \n",
       "pipeline-2__Sex_M                  0.000000  0.000000e+00  1.000000   1.000000  "
      ]
     },
     "execution_count": 211,
     "metadata": {},
     "output_type": "execute_result"
    }
   ],
   "source": [
    "#transformer for numerical data\n",
    "preproc_num = make_pipeline(\n",
    "#     StandardScaler(),\n",
    "#     PCA(3)\n",
    "    RobustScaler()\n",
    ")\n",
    "\n",
    "preproc_cat_onehot = make_pipeline(\n",
    "    OneHotEncoder(\n",
    "        drop = 'if_binary',\n",
    "        sparse_output=False,\n",
    "        handle_unknown='ignore')\n",
    ")\n",
    "\n",
    "preproc_pipeline = make_column_transformer(\n",
    "    (preproc_num, feature_numerical),\n",
    "    (preproc_cat_onehot, feature_categorical_OneHot),\n",
    ")\n",
    "\n",
    "X_preprocessed = preproc_pipeline.fit_transform(X)\n",
    "\n",
    "display(preproc_pipeline)\n",
    "pd.DataFrame(X_preprocessed, columns=preproc_pipeline.get_feature_names_out()).describe().T"
   ]
  },
  {
   "cell_type": "markdown",
   "id": "eef9ec6f",
   "metadata": {},
   "source": [
    "# Model"
   ]
  },
  {
   "cell_type": "markdown",
   "id": "899d1524",
   "metadata": {
    "ExecuteTime": {
     "end_time": "2023-05-25T16:23:23.484055Z",
     "start_time": "2023-05-25T16:23:23.480999Z"
    },
    "heading_collapsed": true
   },
   "source": [
    "## Custom Loss Function"
   ]
  },
  {
   "cell_type": "code",
   "execution_count": 20,
   "id": "356c01d9",
   "metadata": {
    "ExecuteTime": {
     "end_time": "2023-06-11T16:06:58.024664Z",
     "start_time": "2023-06-11T16:06:58.018658Z"
    },
    "hidden": true
   },
   "outputs": [],
   "source": [
    "# EXAMPLE:\n",
    "def my_mae_round(y_true, y_pred):\n",
    "    return np.mean(np.abs(y_true-np.round(y_pred,0)))\n",
    "\n",
    "from sklearn.metrics import make_scorer\n",
    "            \n",
    "mae_round = make_scorer(my_mae_round)"
   ]
  },
  {
   "cell_type": "markdown",
   "id": "8b042141",
   "metadata": {
    "ExecuteTime": {
     "end_time": "2023-05-24T01:44:31.104233Z",
     "start_time": "2023-05-24T01:44:31.100992Z"
    }
   },
   "source": [
    "## Cross Validation"
   ]
  },
  {
   "cell_type": "code",
   "execution_count": 212,
   "id": "6c4504dc",
   "metadata": {
    "ExecuteTime": {
     "end_time": "2023-06-12T01:56:27.019780Z",
     "start_time": "2023-06-12T01:54:24.399623Z"
    },
    "scrolled": false
   },
   "outputs": [
    {
     "name": "stdout",
     "output_type": "stream",
     "text": [
      "Baseline Score(s) of each model are ....\n",
      "Average score: \u001b[94m1.3614991896045203\u001b[0m by \u001b[94mSVM_Reg_rbf\u001b[0m.\n",
      "Average score: \u001b[94m1.3799417331633288\u001b[0m by \u001b[94mlightGBM Regressor\u001b[0m.\n",
      "Average score: \u001b[94m1.4031940696661809\u001b[0m by \u001b[94mGradientBoostingRegressor\u001b[0m.\n"
     ]
    }
   ],
   "source": [
    "# this code is to use cross validation to screen \n",
    "# all available models with default hyperparameters\n",
    "# please comment out the models which are not relevant\n",
    "\n",
    "models = {\n",
    "    'SVM_Reg_rbf': SVR(kernel='rbf'),\n",
    "    'lightGBM Regressor': lgb.LGBMRegressor(),\n",
    "    'GradientBoostingRegressor': GradientBoostingRegressor(),\n",
    "#     'Ridge': Ridge(),\n",
    "#     'SVM_linear': SVR(kernel='linear'),\n",
    "#     'Linear Regression': LinearRegression(),\n",
    "#     'RandomForestRegressor': RandomForestRegressor(),\n",
    "#     'SVM_poly': SVR(kernel='poly'),\n",
    "#     'GradientBoostingClassifier': GradientBoostingClassifier(),\n",
    "#     'KNN Regressor': KNeighborsRegressor(),\n",
    "#     'RandomForestClassifier': RandomForestClassifier(),\n",
    "#     'SVC': SVC(),\n",
    "#     'KNN Classifier': KNeighborsClassifier(),\n",
    "#     'Decision Tree Classifier': DecisionTreeClassifier(),\n",
    "#     'LGBM Clas sifier': lgb.LGBMClassifier(),\n",
    "#     'XGBClassifier': xgb.XGBClassifier(),\n",
    "#     'Decision Tree': DecisionTreeRegressor(),\n",
    "}\n",
    "\n",
    "print('Baseline Score(s) of each model are ....')\n",
    "\n",
    "for model in models:\n",
    "    cv_result = cross_val_score(\n",
    "        models[model], \n",
    "        X_preprocessed, # please provide the features after preprocessing\n",
    "        y, #the target\n",
    "        cv=5, \n",
    "        scoring=mae_round, # lease revise to the appropriate score\n",
    "        n_jobs=-1\n",
    "    )\n",
    "    print(f'Average score: \\033[94m{np.mean(cv_result)}\\033[0m by \\033[94m{model}\\033[0m.')"
   ]
  },
  {
   "cell_type": "code",
   "execution_count": null,
   "id": "6f71d3f4",
   "metadata": {},
   "outputs": [],
   "source": [
    "Baseline Score(s) of each model are ....\n",
    "Average score: 1.3579863516346828 by SVM_Reg_rbf.\n",
    "Average score: 1.3751858600951323 by lightGBM Regressor.\n",
    "Average score: 1.3978166836126396 by GradientBoostingRegressor."
   ]
  },
  {
   "cell_type": "markdown",
   "id": "ac8a2beb",
   "metadata": {},
   "source": [
    "## Hyperparameter Tuning"
   ]
  },
  {
   "cell_type": "markdown",
   "id": "d43da448",
   "metadata": {
    "heading_collapsed": true
   },
   "source": [
    "### SVM_Reg"
   ]
  },
  {
   "cell_type": "code",
   "execution_count": 109,
   "id": "6068a37e",
   "metadata": {
    "ExecuteTime": {
     "end_time": "2023-06-12T01:26:24.982033Z",
     "start_time": "2023-06-12T00:33:50.234575Z"
    },
    "hidden": true,
    "scrolled": false
   },
   "outputs": [
    {
     "name": "stderr",
     "output_type": "stream",
     "text": [
      "\u001b[32m[I 2023-06-12 08:33:50,245]\u001b[0m A new study created in memory with name: no-name-c05797af-3397-4bea-8360-5769790d5653\u001b[0m\n"
     ]
    },
    {
     "name": "stdout",
     "output_type": "stream",
     "text": [
      "CPU times: user 3 µs, sys: 2 µs, total: 5 µs\n",
      "Wall time: 9.06 µs\n"
     ]
    },
    {
     "name": "stderr",
     "output_type": "stream",
     "text": [
      "\u001b[32m[I 2023-06-12 08:44:07,211]\u001b[0m Trial 3 finished with value: 1.4479829153413406 and parameters: {'C': 11.35038448517369, 'epsilon': 0.7488067242601492, 'kernel': 'rbf'}. Best is trial 3 with value: 1.4479829153413406.\u001b[0m\n",
      "\u001b[32m[I 2023-06-12 08:44:57,432]\u001b[0m Trial 1 finished with value: 1.4527118042832918 and parameters: {'C': 17.933916565780834, 'epsilon': 0.8608356546203016, 'kernel': 'rbf'}. Best is trial 3 with value: 1.4479829153413406.\u001b[0m\n",
      "\u001b[32m[I 2023-06-12 08:45:10,498]\u001b[0m Trial 8 finished with value: 1.4487935746106526 and parameters: {'C': 15.43777059600194, 'epsilon': 0.7535400367323022, 'kernel': 'rbf'}. Best is trial 3 with value: 1.4479829153413406.\u001b[0m\n",
      "\u001b[32m[I 2023-06-12 08:45:29,855]\u001b[0m Trial 6 finished with value: 1.4469560699830388 and parameters: {'C': 11.670854566790203, 'epsilon': 0.6516037853784334, 'kernel': 'rbf'}. Best is trial 6 with value: 1.4469560699830388.\u001b[0m\n",
      "\u001b[32m[I 2023-06-12 08:48:30,159]\u001b[0m Trial 4 finished with value: 1.4517794969254498 and parameters: {'C': 27.07645752960336, 'epsilon': 0.7785854788650094, 'kernel': 'rbf'}. Best is trial 6 with value: 1.4469560699830388.\u001b[0m\n",
      "\u001b[32m[I 2023-06-12 08:50:18,037]\u001b[0m Trial 5 finished with value: 1.4455779444788206 and parameters: {'C': 21.030431330260537, 'epsilon': 0.36264219012261484, 'kernel': 'rbf'}. Best is trial 5 with value: 1.4455779444788206.\u001b[0m\n",
      "\u001b[32m[I 2023-06-12 09:21:43,643]\u001b[0m Trial 0 finished with value: 1.4657228675742433 and parameters: {'C': 72.1092058171695, 'epsilon': 0.9922329653170414, 'kernel': 'rbf'}. Best is trial 5 with value: 1.4455779444788206.\u001b[0m\n"
     ]
    },
    {
     "ename": "KeyboardInterrupt",
     "evalue": "",
     "output_type": "error",
     "traceback": [
      "\u001b[0;31m---------------------------------------------------------------------------\u001b[0m",
      "\u001b[0;31mKeyboardInterrupt\u001b[0m                         Traceback (most recent call last)",
      "Cell \u001b[0;32mIn[109], line 22\u001b[0m\n\u001b[1;32m     19\u001b[0m     \u001b[38;5;28;01mreturn\u001b[39;00m score\n\u001b[1;32m     21\u001b[0m svm_reg_study \u001b[38;5;241m=\u001b[39m optuna\u001b[38;5;241m.\u001b[39mcreate_study(direction\u001b[38;5;241m=\u001b[39m\u001b[38;5;124m'\u001b[39m\u001b[38;5;124mminimize\u001b[39m\u001b[38;5;124m'\u001b[39m)\n\u001b[0;32m---> 22\u001b[0m \u001b[43msvm_reg_study\u001b[49m\u001b[38;5;241;43m.\u001b[39;49m\u001b[43moptimize\u001b[49m\u001b[43m(\u001b[49m\u001b[43mobjective\u001b[49m\u001b[43m,\u001b[49m\u001b[43m \u001b[49m\u001b[43mn_jobs\u001b[49m\u001b[38;5;241;43m=\u001b[39;49m\u001b[38;5;241;43m-\u001b[39;49m\u001b[38;5;241;43m1\u001b[39;49m\u001b[43m,\u001b[49m\u001b[43m \u001b[49m\u001b[43mn_trials\u001b[49m\u001b[38;5;241;43m=\u001b[39;49m\u001b[38;5;241;43m10\u001b[39;49m\u001b[43m)\u001b[49m\n\u001b[1;32m     24\u001b[0m \u001b[38;5;66;03m# Store the best result\u001b[39;00m\n\u001b[1;32m     25\u001b[0m best_value \u001b[38;5;241m=\u001b[39m svm_reg_study\u001b[38;5;241m.\u001b[39mbest_value\n",
      "File \u001b[0;32m~/anaconda3/lib/python3.10/site-packages/optuna/study/study.py:425\u001b[0m, in \u001b[0;36mStudy.optimize\u001b[0;34m(self, func, n_trials, timeout, n_jobs, catch, callbacks, gc_after_trial, show_progress_bar)\u001b[0m\n\u001b[1;32m    321\u001b[0m \u001b[38;5;28;01mdef\u001b[39;00m \u001b[38;5;21moptimize\u001b[39m(\n\u001b[1;32m    322\u001b[0m     \u001b[38;5;28mself\u001b[39m,\n\u001b[1;32m    323\u001b[0m     func: ObjectiveFuncType,\n\u001b[0;32m   (...)\u001b[0m\n\u001b[1;32m    330\u001b[0m     show_progress_bar: \u001b[38;5;28mbool\u001b[39m \u001b[38;5;241m=\u001b[39m \u001b[38;5;28;01mFalse\u001b[39;00m,\n\u001b[1;32m    331\u001b[0m ) \u001b[38;5;241m-\u001b[39m\u001b[38;5;241m>\u001b[39m \u001b[38;5;28;01mNone\u001b[39;00m:\n\u001b[1;32m    332\u001b[0m \u001b[38;5;250m    \u001b[39m\u001b[38;5;124;03m\"\"\"Optimize an objective function.\u001b[39;00m\n\u001b[1;32m    333\u001b[0m \n\u001b[1;32m    334\u001b[0m \u001b[38;5;124;03m    Optimization is done by choosing a suitable set of hyperparameter values from a given\u001b[39;00m\n\u001b[0;32m   (...)\u001b[0m\n\u001b[1;32m    422\u001b[0m \u001b[38;5;124;03m            If nested invocation of this method occurs.\u001b[39;00m\n\u001b[1;32m    423\u001b[0m \u001b[38;5;124;03m    \"\"\"\u001b[39;00m\n\u001b[0;32m--> 425\u001b[0m     \u001b[43m_optimize\u001b[49m\u001b[43m(\u001b[49m\n\u001b[1;32m    426\u001b[0m \u001b[43m        \u001b[49m\u001b[43mstudy\u001b[49m\u001b[38;5;241;43m=\u001b[39;49m\u001b[38;5;28;43mself\u001b[39;49m\u001b[43m,\u001b[49m\n\u001b[1;32m    427\u001b[0m \u001b[43m        \u001b[49m\u001b[43mfunc\u001b[49m\u001b[38;5;241;43m=\u001b[39;49m\u001b[43mfunc\u001b[49m\u001b[43m,\u001b[49m\n\u001b[1;32m    428\u001b[0m \u001b[43m        \u001b[49m\u001b[43mn_trials\u001b[49m\u001b[38;5;241;43m=\u001b[39;49m\u001b[43mn_trials\u001b[49m\u001b[43m,\u001b[49m\n\u001b[1;32m    429\u001b[0m \u001b[43m        \u001b[49m\u001b[43mtimeout\u001b[49m\u001b[38;5;241;43m=\u001b[39;49m\u001b[43mtimeout\u001b[49m\u001b[43m,\u001b[49m\n\u001b[1;32m    430\u001b[0m \u001b[43m        \u001b[49m\u001b[43mn_jobs\u001b[49m\u001b[38;5;241;43m=\u001b[39;49m\u001b[43mn_jobs\u001b[49m\u001b[43m,\u001b[49m\n\u001b[1;32m    431\u001b[0m \u001b[43m        \u001b[49m\u001b[43mcatch\u001b[49m\u001b[38;5;241;43m=\u001b[39;49m\u001b[38;5;28;43mtuple\u001b[39;49m\u001b[43m(\u001b[49m\u001b[43mcatch\u001b[49m\u001b[43m)\u001b[49m\u001b[43m \u001b[49m\u001b[38;5;28;43;01mif\u001b[39;49;00m\u001b[43m \u001b[49m\u001b[38;5;28;43misinstance\u001b[39;49m\u001b[43m(\u001b[49m\u001b[43mcatch\u001b[49m\u001b[43m,\u001b[49m\u001b[43m \u001b[49m\u001b[43mIterable\u001b[49m\u001b[43m)\u001b[49m\u001b[43m \u001b[49m\u001b[38;5;28;43;01melse\u001b[39;49;00m\u001b[43m \u001b[49m\u001b[43m(\u001b[49m\u001b[43mcatch\u001b[49m\u001b[43m,\u001b[49m\u001b[43m)\u001b[49m\u001b[43m,\u001b[49m\n\u001b[1;32m    432\u001b[0m \u001b[43m        \u001b[49m\u001b[43mcallbacks\u001b[49m\u001b[38;5;241;43m=\u001b[39;49m\u001b[43mcallbacks\u001b[49m\u001b[43m,\u001b[49m\n\u001b[1;32m    433\u001b[0m \u001b[43m        \u001b[49m\u001b[43mgc_after_trial\u001b[49m\u001b[38;5;241;43m=\u001b[39;49m\u001b[43mgc_after_trial\u001b[49m\u001b[43m,\u001b[49m\n\u001b[1;32m    434\u001b[0m \u001b[43m        \u001b[49m\u001b[43mshow_progress_bar\u001b[49m\u001b[38;5;241;43m=\u001b[39;49m\u001b[43mshow_progress_bar\u001b[49m\u001b[43m,\u001b[49m\n\u001b[1;32m    435\u001b[0m \u001b[43m    \u001b[49m\u001b[43m)\u001b[49m\n",
      "File \u001b[0;32m~/anaconda3/lib/python3.10/site-packages/optuna/study/_optimize.py:85\u001b[0m, in \u001b[0;36m_optimize\u001b[0;34m(study, func, n_trials, timeout, n_jobs, catch, callbacks, gc_after_trial, show_progress_bar)\u001b[0m\n\u001b[1;32m     82\u001b[0m time_start \u001b[38;5;241m=\u001b[39m datetime\u001b[38;5;241m.\u001b[39mdatetime\u001b[38;5;241m.\u001b[39mnow()\n\u001b[1;32m     83\u001b[0m futures: Set[Future] \u001b[38;5;241m=\u001b[39m \u001b[38;5;28mset\u001b[39m()\n\u001b[0;32m---> 85\u001b[0m \u001b[38;5;28;01mwith\u001b[39;00m ThreadPoolExecutor(max_workers\u001b[38;5;241m=\u001b[39mn_jobs) \u001b[38;5;28;01mas\u001b[39;00m executor:\n\u001b[1;32m     86\u001b[0m     \u001b[38;5;28;01mfor\u001b[39;00m n_submitted_trials \u001b[38;5;129;01min\u001b[39;00m itertools\u001b[38;5;241m.\u001b[39mcount():\n\u001b[1;32m     87\u001b[0m         \u001b[38;5;28;01mif\u001b[39;00m study\u001b[38;5;241m.\u001b[39m_stop_flag:\n",
      "File \u001b[0;32m~/anaconda3/lib/python3.10/concurrent/futures/_base.py:649\u001b[0m, in \u001b[0;36mExecutor.__exit__\u001b[0;34m(self, exc_type, exc_val, exc_tb)\u001b[0m\n\u001b[1;32m    648\u001b[0m \u001b[38;5;28;01mdef\u001b[39;00m \u001b[38;5;21m__exit__\u001b[39m(\u001b[38;5;28mself\u001b[39m, exc_type, exc_val, exc_tb):\n\u001b[0;32m--> 649\u001b[0m     \u001b[38;5;28;43mself\u001b[39;49m\u001b[38;5;241;43m.\u001b[39;49m\u001b[43mshutdown\u001b[49m\u001b[43m(\u001b[49m\u001b[43mwait\u001b[49m\u001b[38;5;241;43m=\u001b[39;49m\u001b[38;5;28;43;01mTrue\u001b[39;49;00m\u001b[43m)\u001b[49m\n\u001b[1;32m    650\u001b[0m     \u001b[38;5;28;01mreturn\u001b[39;00m \u001b[38;5;28;01mFalse\u001b[39;00m\n",
      "File \u001b[0;32m~/anaconda3/lib/python3.10/concurrent/futures/thread.py:235\u001b[0m, in \u001b[0;36mThreadPoolExecutor.shutdown\u001b[0;34m(self, wait, cancel_futures)\u001b[0m\n\u001b[1;32m    233\u001b[0m \u001b[38;5;28;01mif\u001b[39;00m wait:\n\u001b[1;32m    234\u001b[0m     \u001b[38;5;28;01mfor\u001b[39;00m t \u001b[38;5;129;01min\u001b[39;00m \u001b[38;5;28mself\u001b[39m\u001b[38;5;241m.\u001b[39m_threads:\n\u001b[0;32m--> 235\u001b[0m         \u001b[43mt\u001b[49m\u001b[38;5;241;43m.\u001b[39;49m\u001b[43mjoin\u001b[49m\u001b[43m(\u001b[49m\u001b[43m)\u001b[49m\n",
      "File \u001b[0;32m~/anaconda3/lib/python3.10/threading.py:1096\u001b[0m, in \u001b[0;36mThread.join\u001b[0;34m(self, timeout)\u001b[0m\n\u001b[1;32m   1093\u001b[0m     \u001b[38;5;28;01mraise\u001b[39;00m \u001b[38;5;167;01mRuntimeError\u001b[39;00m(\u001b[38;5;124m\"\u001b[39m\u001b[38;5;124mcannot join current thread\u001b[39m\u001b[38;5;124m\"\u001b[39m)\n\u001b[1;32m   1095\u001b[0m \u001b[38;5;28;01mif\u001b[39;00m timeout \u001b[38;5;129;01mis\u001b[39;00m \u001b[38;5;28;01mNone\u001b[39;00m:\n\u001b[0;32m-> 1096\u001b[0m     \u001b[38;5;28;43mself\u001b[39;49m\u001b[38;5;241;43m.\u001b[39;49m\u001b[43m_wait_for_tstate_lock\u001b[49m\u001b[43m(\u001b[49m\u001b[43m)\u001b[49m\n\u001b[1;32m   1097\u001b[0m \u001b[38;5;28;01melse\u001b[39;00m:\n\u001b[1;32m   1098\u001b[0m     \u001b[38;5;66;03m# the behavior of a negative timeout isn't documented, but\u001b[39;00m\n\u001b[1;32m   1099\u001b[0m     \u001b[38;5;66;03m# historically .join(timeout=x) for x<0 has acted as if timeout=0\u001b[39;00m\n\u001b[1;32m   1100\u001b[0m     \u001b[38;5;28mself\u001b[39m\u001b[38;5;241m.\u001b[39m_wait_for_tstate_lock(timeout\u001b[38;5;241m=\u001b[39m\u001b[38;5;28mmax\u001b[39m(timeout, \u001b[38;5;241m0\u001b[39m))\n",
      "File \u001b[0;32m~/anaconda3/lib/python3.10/threading.py:1116\u001b[0m, in \u001b[0;36mThread._wait_for_tstate_lock\u001b[0;34m(self, block, timeout)\u001b[0m\n\u001b[1;32m   1113\u001b[0m     \u001b[38;5;28;01mreturn\u001b[39;00m\n\u001b[1;32m   1115\u001b[0m \u001b[38;5;28;01mtry\u001b[39;00m:\n\u001b[0;32m-> 1116\u001b[0m     \u001b[38;5;28;01mif\u001b[39;00m \u001b[43mlock\u001b[49m\u001b[38;5;241;43m.\u001b[39;49m\u001b[43macquire\u001b[49m\u001b[43m(\u001b[49m\u001b[43mblock\u001b[49m\u001b[43m,\u001b[49m\u001b[43m \u001b[49m\u001b[43mtimeout\u001b[49m\u001b[43m)\u001b[49m:\n\u001b[1;32m   1117\u001b[0m         lock\u001b[38;5;241m.\u001b[39mrelease()\n\u001b[1;32m   1118\u001b[0m         \u001b[38;5;28mself\u001b[39m\u001b[38;5;241m.\u001b[39m_stop()\n",
      "\u001b[0;31mKeyboardInterrupt\u001b[0m: "
     ]
    }
   ],
   "source": [
    "%time\n",
    "# Model tuning using uptuna\n",
    "\n",
    "def objective(trial):\n",
    "    params = {\n",
    "        'C': trial.suggest_loguniform('C', 10, 200.0),\n",
    "        'epsilon': trial.suggest_uniform('epsilon', 0.1, 1.0),\n",
    "#         'gamma': trial.suggest_loguniform('gamma', 0.01, 1.0),\n",
    "#         'coef0': trial.suggest_uniform('coef0', -1.0, 1.0),\n",
    "#         'degree': trial.suggest_int('degree', 1, 5),\n",
    "        'kernel': trial.suggest_categorical('kernel', [ 'rbf'])#,, 'poly' ''linear', sigmoid'])\n",
    "    }\n",
    "    \n",
    "    model = SVR(**params)\n",
    "    score = np.mean(cross_val_score(model, \n",
    "                                    X_preprocessed, y,\n",
    "                                    cv = 5,\n",
    "                                    scoring=mae_round))\n",
    "    return score\n",
    "\n",
    "svm_reg_study = optuna.create_study(direction='minimize')\n",
    "svm_reg_study.optimize(objective, n_jobs=-1, n_trials=10)\n",
    "\n",
    "# Store the best result\n",
    "best_value = svm_reg_study.best_value\n",
    "best_svm_reg_model = SVR(**svm_reg_study.best_params)\n",
    "print(svm_reg_study.best_trial)\n",
    "\n",
    "# Result Summary\n",
    "num_cpus = psutil.cpu_count(logical=True)\n",
    "print(f'''\\033[94m{num_cpus}\\033[0m out of \\033[94m{os.cpu_count()}\\033[0m CPUs are used.''')\n",
    "\n",
    "# FrozenTrial(number=49, state=TrialState.COMPLETE, values=[1.3538250028617524],\n",
    "# datetime_start=datetime.datetime(2023, 6, 12, 1, 48, 53, 391261), datetime_complete=datetime.datetime(2023, \n",
    "# 6, 12, 2, 2, 30, 522915), \n",
    "# params={'C': 27.525965218999815, 'epsilon': 0.1745756530628966, 'kernel': 'rbf'}, \n",
    "# user_attrs={}, system_attrs={}, intermediate_values={}, distributions={'C': FloatDistribution(high=200.0, \n",
    "# log=True, low=10.0, step=None), 'epsilon': FloatDistribution(high=1.0, log=False, low=0.1, step=None), \n",
    "# 'kernel': CategoricalDistribution(choices=('rbf',))}, trial_id=49, value=None)"
   ]
  },
  {
   "cell_type": "markdown",
   "id": "fb244a1c",
   "metadata": {},
   "source": [
    "### XGBoost"
   ]
  },
  {
   "cell_type": "code",
   "execution_count": 213,
   "id": "4a4b8cf1",
   "metadata": {
    "ExecuteTime": {
     "end_time": "2023-06-12T02:05:19.065084Z",
     "start_time": "2023-06-12T01:58:03.240480Z"
    },
    "scrolled": false
   },
   "outputs": [
    {
     "name": "stderr",
     "output_type": "stream",
     "text": [
      "\u001b[32m[I 2023-06-12 09:58:03,246]\u001b[0m A new study created in memory with name: no-name-a058233f-2196-46a9-9819-b1a286e4de72\u001b[0m\n",
      "\u001b[32m[I 2023-06-12 10:00:40,019]\u001b[0m Trial 2 finished with value: 1.4298917176476613 and parameters: {'learning_rate': 0.2791990341273792, 'n_estimators': 300, 'max_depth': 5, 'subsample': 0.6414661319700209, 'colsample_bytree': 0.535393676179779}. Best is trial 2 with value: 1.4298917176476613.\u001b[0m\n",
      "\u001b[32m[I 2023-06-12 10:00:48,666]\u001b[0m Trial 5 finished with value: 1.3855487357572205 and parameters: {'learning_rate': 0.09850826258298229, 'n_estimators': 300, 'max_depth': 5, 'subsample': 0.5645694156776639, 'colsample_bytree': 0.7836475646244161}. Best is trial 5 with value: 1.3855487357572205.\u001b[0m\n",
      "\u001b[32m[I 2023-06-12 10:01:19,516]\u001b[0m Trial 6 finished with value: 1.4170563555850464 and parameters: {'learning_rate': 0.24528689783736937, 'n_estimators': 500, 'max_depth': 4, 'subsample': 0.6767570685297125, 'colsample_bytree': 0.9112766782158466}. Best is trial 5 with value: 1.3855487357572205.\u001b[0m\n",
      "\u001b[32m[I 2023-06-12 10:01:53,591]\u001b[0m Trial 9 finished with value: 1.4766802556656282 and parameters: {'learning_rate': 0.27574231197496457, 'n_estimators': 300, 'max_depth': 7, 'subsample': 0.7589940564088689, 'colsample_bytree': 0.6458479400709283}. Best is trial 5 with value: 1.3855487357572205.\u001b[0m\n",
      "\u001b[32m[I 2023-06-12 10:02:10,063]\u001b[0m Trial 0 finished with value: 2.1917068258977475 and parameters: {'learning_rate': 0.966292645140093, 'n_estimators': 300, 'max_depth': 8, 'subsample': 0.6948284535653709, 'colsample_bytree': 0.556156153970549}. Best is trial 5 with value: 1.3855487357572205.\u001b[0m\n",
      "\u001b[32m[I 2023-06-12 10:03:41,664]\u001b[0m Trial 3 finished with value: 1.7806633538524235 and parameters: {'learning_rate': 0.8217047767556629, 'n_estimators': 900, 'max_depth': 5, 'subsample': 0.8799248118472338, 'colsample_bytree': 0.9115097418180805}. Best is trial 5 with value: 1.3855487357572205.\u001b[0m\n",
      "\u001b[32m[I 2023-06-12 10:04:25,634]\u001b[0m Trial 7 finished with value: 1.5685681617267315 and parameters: {'learning_rate': 0.30604099394002204, 'n_estimators': 900, 'max_depth': 6, 'subsample': 0.6457718438104081, 'colsample_bytree': 0.704407379656973}. Best is trial 5 with value: 1.3855487357572205.\u001b[0m\n",
      "\u001b[32m[I 2023-06-12 10:04:41,826]\u001b[0m Trial 8 finished with value: 1.5591510083568096 and parameters: {'learning_rate': 0.205358848204426, 'n_estimators': 600, 'max_depth': 9, 'subsample': 0.5965817593416338, 'colsample_bytree': 0.6227397637328256}. Best is trial 5 with value: 1.3855487357572205.\u001b[0m\n",
      "\u001b[32m[I 2023-06-12 10:05:17,571]\u001b[0m Trial 1 finished with value: 2.419461374824209 and parameters: {'learning_rate': 0.9145899356487698, 'n_estimators': 800, 'max_depth': 9, 'subsample': 0.6094798786424025, 'colsample_bytree': 0.7623835174700151}. Best is trial 5 with value: 1.3855487357572205.\u001b[0m\n",
      "\u001b[32m[I 2023-06-12 10:05:19,062]\u001b[0m Trial 4 finished with value: 1.5590159051722143 and parameters: {'learning_rate': 0.29225263340756075, 'n_estimators': 900, 'max_depth': 8, 'subsample': 0.8762683487503937, 'colsample_bytree': 0.8547423398235667}. Best is trial 5 with value: 1.3855487357572205.\u001b[0m\n"
     ]
    },
    {
     "name": "stdout",
     "output_type": "stream",
     "text": [
      "FrozenTrial(number=5, state=TrialState.COMPLETE, values=[1.3855487357572205], datetime_start=datetime.datetime(2023, 6, 12, 9, 58, 3, 266575), datetime_complete=datetime.datetime(2023, 6, 12, 10, 0, 48, 666527), params={'learning_rate': 0.09850826258298229, 'n_estimators': 300, 'max_depth': 5, 'subsample': 0.5645694156776639, 'colsample_bytree': 0.7836475646244161}, user_attrs={}, system_attrs={}, intermediate_values={}, distributions={'learning_rate': FloatDistribution(high=1.0, log=False, low=0.01, step=None), 'n_estimators': IntDistribution(high=1000, log=False, low=100, step=100), 'max_depth': IntDistribution(high=10, log=False, low=3, step=1), 'subsample': FloatDistribution(high=1.0, log=False, low=0.5, step=None), 'colsample_bytree': FloatDistribution(high=1.0, log=False, low=0.5, step=None)}, trial_id=5, value=None)\n",
      "\u001b[94m10\u001b[0m out of \u001b[94m10\u001b[0m CPUs are used.\n",
      "CPU times: user 39min 1s, sys: 32min 13s, total: 1h 11min 14s\n",
      "Wall time: 7min 15s\n"
     ]
    }
   ],
   "source": [
    "%%time\n",
    "# Model tuning using uptuna\n",
    "\n",
    "def objective(trial):\n",
    "    params = {\n",
    "        'learning_rate': trial.suggest_float('learning_rate', 0.01, 1),\n",
    "        'n_estimators': trial.suggest_int('n_estimators', 100, 1000, step=100),\n",
    "        'max_depth': trial.suggest_int('max_depth', 3, 10),\n",
    "        'subsample': trial.suggest_float('subsample', 0.5, 1.0),\n",
    "        'colsample_bytree': trial.suggest_float('colsample_bytree', 0.5, 1.0),\n",
    "#         'reg_alpha': trial.suggest_float('reg_alpha', 0.0, 1.0),\n",
    "#         'reg_lambda': trial.suggest_float('reg_lambda', 0.0, 1.0)\n",
    "    }\n",
    "    model = xgb.XGBRegressor(**params)\n",
    "    score = np.mean(cross_val_score(model, X_preprocessed, y, scoring=mae_round))\n",
    "    return score\n",
    "xgb_study = optuna.create_study(direction='minimize')\n",
    "xgb_study.optimize(objective, n_jobs=-1, n_trials=10)\n",
    "\n",
    "best_xgb_model = xgb.XGBRegressor(**xgb_study.best_params)\n",
    "best_value = xgb_study.best_value\n",
    "print(xgb_study.best_trial)\n",
    "\n",
    "num_cpus = psutil.cpu_count(logical=True)\n",
    "print(f'''\\033[94m{num_cpus}\\033[0m out of \\033[94m{os.cpu_count()}\\033[0m CPUs are used.''')\n",
    "\n"
   ]
  },
  {
   "cell_type": "markdown",
   "id": "38f1b8bc",
   "metadata": {
    "ExecuteTime": {
     "end_time": "2023-05-24T02:08:25.822466Z",
     "start_time": "2023-05-24T02:08:25.819259Z"
    },
    "heading_collapsed": true
   },
   "source": [
    "### KNN"
   ]
  },
  {
   "cell_type": "code",
   "execution_count": null,
   "id": "90adfc3e",
   "metadata": {
    "ExecuteTime": {
     "end_time": "2023-05-24T03:26:15.683143Z",
     "start_time": "2023-05-24T03:26:13.935025Z"
    },
    "hidden": true,
    "scrolled": true
   },
   "outputs": [],
   "source": [
    "knn_pipeline = make_pipeline(\n",
    "    preproc_pipeline, \n",
    "    KNeighborsRegressor()\n",
    ")\n",
    "\n",
    "knn_param_grid={\n",
    "    '__n_neighbors': list(range(1,20,1))\n",
    "}\n",
    "knn_search = GridSearchCV(knn_pipeline, \n",
    "                      knn_param_grid, \n",
    "                      cv=5, \n",
    "                      scoring='r2', \n",
    "                      n_jobs=-1)\n",
    "knn_search.fit(X, y)"
   ]
  },
  {
   "cell_type": "code",
   "execution_count": null,
   "id": "7e6ee6f9",
   "metadata": {
    "ExecuteTime": {
     "end_time": "2023-05-24T02:08:13.137643Z",
     "start_time": "2023-05-24T02:08:13.118713Z"
    },
    "hidden": true
   },
   "outputs": [],
   "source": [
    "knn_best_model = knn_search.best_estimator_\n",
    "print(knn_search.best_score_)\n",
    "print(knn_search.best_params_)"
   ]
  },
  {
   "cell_type": "markdown",
   "id": "d81fc172",
   "metadata": {
    "heading_collapsed": true
   },
   "source": [
    "### LightGBM Regressor"
   ]
  },
  {
   "cell_type": "code",
   "execution_count": null,
   "id": "9d217477",
   "metadata": {
    "ExecuteTime": {
     "end_time": "2023-06-11T14:58:54.470079Z",
     "start_time": "2023-06-11T14:36:00.302619Z"
    },
    "hidden": true,
    "scrolled": true
   },
   "outputs": [],
   "source": [
    "# Model tuning using uptuna\n",
    "def objective(trial):\n",
    "    params = {\n",
    "        'objective': 'regression',  # or 'regression' for regression problems\n",
    "        'metric': 'mae',  # or 'rmse' for regression problems\n",
    "        'boosting_type': 'gbdt',\n",
    "        'num_leaves': trial.suggest_int('num_leaves', 10, 1000),\n",
    "        'learning_rate': trial.suggest_loguniform('learning_rate', 0.001, 0.1),\n",
    "        # Add other LightGBM parameters you want to tune\n",
    "    }\n",
    "    \n",
    "    model = lgb.LGBMRegressor(**params)\n",
    "    score = np.mean(cross_val_score(model, X_preprocessed, y, cv=10, scoring=mae_round))\n",
    "    return  score\n",
    "\n",
    "l_gbm_study = optuna.create_study(direction='minimize')\n",
    "l_gbm_study.optimize(objective, n_jobs=-1, n_trials=30)\n",
    "\n",
    "best_l_gbm_model = lgb.LGBMRegressor(**l_gbm_study.best_params)\n",
    "best_value = l_gbm_study.best_value\n",
    "print(l_gbm_study.best_trial)\n",
    "num_cpus = psutil.cpu_count(logical=True)\n",
    "print(f'''\\033[94m{num_cpus}\\033[0m out of \\033[94m{os.cpu_count()}\\033[0m CPUs are used.''')"
   ]
  },
  {
   "cell_type": "markdown",
   "id": "455db35a",
   "metadata": {
    "heading_collapsed": true
   },
   "source": [
    "### Random Foreast"
   ]
  },
  {
   "cell_type": "code",
   "execution_count": null,
   "id": "b7c8467f",
   "metadata": {
    "ExecuteTime": {
     "end_time": "2023-06-11T02:42:22.648080Z",
     "start_time": "2023-06-11T02:36:17.434535Z"
    },
    "hidden": true
   },
   "outputs": [],
   "source": [
    "# Model tuning using uptuna\n",
    "\n",
    "def objective(trial):\n",
    "    params = {\n",
    "        'n_estimators': trial.suggest_int('n_estimators', 10, 1000, step=10),\n",
    "        'max_depth': trial.suggest_int('max_depth', 5, 30),\n",
    "        'min_samples_split': trial.suggest_int('min_samples_split', 2, 20),\n",
    "        'min_samples_leaf': trial.suggest_int('min_samples_leaf', 1, 10),\n",
    "        'max_features': trial.suggest_categorical('max_features', ['auto', 'sqrt', None])\n",
    "    }\n",
    "\n",
    "    model = RandomForestRegressor(**params)\n",
    "\n",
    "    score = np.mean(cross_val_score(model, X_preprocessed, y, scoring='neg_mean_absolute_error'))\n",
    "    return  -score\n",
    "\n",
    "rf_study = optuna.create_study(direction='minimize')\n",
    "rf_study.optimize(objective, n_jobs=-1, n_trials=200)\n",
    "\n",
    "best_rf_model = RandomForestRegressor(**rf_study.best_params)\n",
    "\n",
    "num_cpus = psutil.cpu_count(logical=True)\n",
    "\n",
    "print(f'''\\033[94m{os.cpu_count()}\\033[0m CPU savailable, \n",
    "\\033[94m{num_cpus}\\033[0m are used.''')\n",
    "\n",
    "print(rf_study.best_trial)"
   ]
  },
  {
   "cell_type": "markdown",
   "id": "5393935e",
   "metadata": {
    "heading_collapsed": true
   },
   "source": [
    "### Voting Model"
   ]
  },
  {
   "cell_type": "code",
   "execution_count": null,
   "id": "2dfb47d0",
   "metadata": {
    "ExecuteTime": {
     "end_time": "2023-06-11T01:31:10.262217Z",
     "start_time": "2023-06-11T01:31:10.235990Z"
    },
    "hidden": true
   },
   "outputs": [],
   "source": [
    "from sklearn.ensemble import VotingRegressor\n",
    "\n",
    "r1 = best_svm_reg_model\n",
    "r2 = best_l_gbm_model\n",
    "r3 = LinearRegression()\n",
    "r4 = best_xgb_model\n",
    "\n",
    "voting_model = VotingRegressor([\n",
    "    ('SVM', r1), \n",
    "    ('LightGBM', r2), \n",
    "    ('LinearRegression', r3), \n",
    "    ('gbt', r4)\n",
    "])\n",
    "\n",
    "best_voting_model = voting_model\n",
    "best_value = -np.mean(cross_val_score(\n",
    "    voting_model, X_preprocessed, y, cv=10, scoring='neg_mean_absolute_error'))"
   ]
  },
  {
   "cell_type": "code",
   "execution_count": null,
   "id": "8c86f7f7",
   "metadata": {
    "ExecuteTime": {
     "end_time": "2023-06-11T02:15:46.128936Z",
     "start_time": "2023-06-11T01:54:05.469234Z"
    },
    "hidden": true
   },
   "outputs": [],
   "source": [
    "np.mean(cross_val_score(voting_model, X_preprocessed, y, cv=10, scoring='neg_mean_absolute_error'))"
   ]
  },
  {
   "cell_type": "markdown",
   "id": "f977376c",
   "metadata": {},
   "source": [
    "# Export Result"
   ]
  },
  {
   "cell_type": "code",
   "execution_count": 214,
   "id": "51e7584d",
   "metadata": {
    "ExecuteTime": {
     "end_time": "2023-06-12T02:09:03.379369Z",
     "start_time": "2023-06-12T02:09:03.295996Z"
    }
   },
   "outputs": [
    {
     "data": {
      "text/html": [
       "<div>\n",
       "<style scoped>\n",
       "    .dataframe tbody tr th:only-of-type {\n",
       "        vertical-align: middle;\n",
       "    }\n",
       "\n",
       "    .dataframe tbody tr th {\n",
       "        vertical-align: top;\n",
       "    }\n",
       "\n",
       "    .dataframe thead th {\n",
       "        text-align: right;\n",
       "    }\n",
       "</style>\n",
       "<table border=\"1\" class=\"dataframe\">\n",
       "  <thead>\n",
       "    <tr style=\"text-align: right;\">\n",
       "      <th></th>\n",
       "      <th>count</th>\n",
       "      <th>mean</th>\n",
       "      <th>std</th>\n",
       "      <th>min</th>\n",
       "      <th>25%</th>\n",
       "      <th>50%</th>\n",
       "      <th>75%</th>\n",
       "      <th>max</th>\n",
       "    </tr>\n",
       "  </thead>\n",
       "  <tbody>\n",
       "    <tr>\n",
       "      <th>Length</th>\n",
       "      <td>49368.0</td>\n",
       "      <td>1.319694</td>\n",
       "      <td>0.287206</td>\n",
       "      <td>0.187500</td>\n",
       "      <td>1.162500</td>\n",
       "      <td>1.387500</td>\n",
       "      <td>1.537500</td>\n",
       "      <td>2.037500</td>\n",
       "    </tr>\n",
       "    <tr>\n",
       "      <th>Diameter</th>\n",
       "      <td>49368.0</td>\n",
       "      <td>1.026305</td>\n",
       "      <td>0.236703</td>\n",
       "      <td>0.137500</td>\n",
       "      <td>0.887500</td>\n",
       "      <td>1.075000</td>\n",
       "      <td>1.200000</td>\n",
       "      <td>1.625000</td>\n",
       "    </tr>\n",
       "    <tr>\n",
       "      <th>Height</th>\n",
       "      <td>49368.0</td>\n",
       "      <td>0.348792</td>\n",
       "      <td>0.092072</td>\n",
       "      <td>0.025000</td>\n",
       "      <td>0.300000</td>\n",
       "      <td>0.362500</td>\n",
       "      <td>0.412500</td>\n",
       "      <td>2.825000</td>\n",
       "    </tr>\n",
       "    <tr>\n",
       "      <th>Weight</th>\n",
       "      <td>49368.0</td>\n",
       "      <td>23.463569</td>\n",
       "      <td>12.643313</td>\n",
       "      <td>0.056699</td>\n",
       "      <td>13.536886</td>\n",
       "      <td>23.813580</td>\n",
       "      <td>32.290081</td>\n",
       "      <td>80.101512</td>\n",
       "    </tr>\n",
       "    <tr>\n",
       "      <th>Shucked Weight</th>\n",
       "      <td>49368.0</td>\n",
       "      <td>10.129839</td>\n",
       "      <td>5.612342</td>\n",
       "      <td>0.028349</td>\n",
       "      <td>5.740774</td>\n",
       "      <td>9.979024</td>\n",
       "      <td>14.047177</td>\n",
       "      <td>42.184056</td>\n",
       "    </tr>\n",
       "    <tr>\n",
       "      <th>Viscera Weight</th>\n",
       "      <td>49368.0</td>\n",
       "      <td>5.072468</td>\n",
       "      <td>2.791755</td>\n",
       "      <td>0.014175</td>\n",
       "      <td>2.877474</td>\n",
       "      <td>4.989512</td>\n",
       "      <td>7.016501</td>\n",
       "      <td>21.545620</td>\n",
       "    </tr>\n",
       "    <tr>\n",
       "      <th>Shell Weight</th>\n",
       "      <td>49368.0</td>\n",
       "      <td>6.745446</td>\n",
       "      <td>3.576065</td>\n",
       "      <td>0.042524</td>\n",
       "      <td>3.968930</td>\n",
       "      <td>6.945627</td>\n",
       "      <td>9.171063</td>\n",
       "      <td>28.491248</td>\n",
       "    </tr>\n",
       "    <tr>\n",
       "      <th>Log Weight</th>\n",
       "      <td>49368.0</td>\n",
       "      <td>2.928772</td>\n",
       "      <td>0.802656</td>\n",
       "      <td>-2.869999</td>\n",
       "      <td>2.605418</td>\n",
       "      <td>3.170256</td>\n",
       "      <td>3.474760</td>\n",
       "      <td>4.383295</td>\n",
       "    </tr>\n",
       "    <tr>\n",
       "      <th>Volume</th>\n",
       "      <td>49368.0</td>\n",
       "      <td>0.542410</td>\n",
       "      <td>0.300561</td>\n",
       "      <td>0.000645</td>\n",
       "      <td>0.306187</td>\n",
       "      <td>0.546563</td>\n",
       "      <td>0.757031</td>\n",
       "      <td>3.347098</td>\n",
       "    </tr>\n",
       "    <tr>\n",
       "      <th>Log Volume</th>\n",
       "      <td>49368.0</td>\n",
       "      <td>-0.856298</td>\n",
       "      <td>0.842761</td>\n",
       "      <td>-7.346987</td>\n",
       "      <td>-1.183558</td>\n",
       "      <td>-0.604107</td>\n",
       "      <td>-0.278351</td>\n",
       "      <td>1.208094</td>\n",
       "    </tr>\n",
       "    <tr>\n",
       "      <th>Density</th>\n",
       "      <td>49368.0</td>\n",
       "      <td>44.480900</td>\n",
       "      <td>7.811107</td>\n",
       "      <td>4.809302</td>\n",
       "      <td>40.658106</td>\n",
       "      <td>43.721908</td>\n",
       "      <td>47.202826</td>\n",
       "      <td>601.354532</td>\n",
       "    </tr>\n",
       "    <tr>\n",
       "      <th>Diameter_Height_Ratio</th>\n",
       "      <td>49368.0</td>\n",
       "      <td>2.985031</td>\n",
       "      <td>0.388120</td>\n",
       "      <td>0.314159</td>\n",
       "      <td>2.800000</td>\n",
       "      <td>2.966667</td>\n",
       "      <td>3.150000</td>\n",
       "      <td>36.333333</td>\n",
       "    </tr>\n",
       "    <tr>\n",
       "      <th>Shell_Weight_Ratio</th>\n",
       "      <td>49368.0</td>\n",
       "      <td>0.293099</td>\n",
       "      <td>0.041712</td>\n",
       "      <td>0.046948</td>\n",
       "      <td>0.267573</td>\n",
       "      <td>0.288879</td>\n",
       "      <td>0.314268</td>\n",
       "      <td>1.870317</td>\n",
       "    </tr>\n",
       "    <tr>\n",
       "      <th>Shape</th>\n",
       "      <td>49368.0</td>\n",
       "      <td>0.438018</td>\n",
       "      <td>0.060744</td>\n",
       "      <td>0.031816</td>\n",
       "      <td>0.407606</td>\n",
       "      <td>0.434024</td>\n",
       "      <td>0.463712</td>\n",
       "      <td>5.181818</td>\n",
       "    </tr>\n",
       "  </tbody>\n",
       "</table>\n",
       "</div>"
      ],
      "text/plain": [
       "                         count       mean        std       min        25%  \\\n",
       "Length                 49368.0   1.319694   0.287206  0.187500   1.162500   \n",
       "Diameter               49368.0   1.026305   0.236703  0.137500   0.887500   \n",
       "Height                 49368.0   0.348792   0.092072  0.025000   0.300000   \n",
       "Weight                 49368.0  23.463569  12.643313  0.056699  13.536886   \n",
       "Shucked Weight         49368.0  10.129839   5.612342  0.028349   5.740774   \n",
       "Viscera Weight         49368.0   5.072468   2.791755  0.014175   2.877474   \n",
       "Shell Weight           49368.0   6.745446   3.576065  0.042524   3.968930   \n",
       "Log Weight             49368.0   2.928772   0.802656 -2.869999   2.605418   \n",
       "Volume                 49368.0   0.542410   0.300561  0.000645   0.306187   \n",
       "Log Volume             49368.0  -0.856298   0.842761 -7.346987  -1.183558   \n",
       "Density                49368.0  44.480900   7.811107  4.809302  40.658106   \n",
       "Diameter_Height_Ratio  49368.0   2.985031   0.388120  0.314159   2.800000   \n",
       "Shell_Weight_Ratio     49368.0   0.293099   0.041712  0.046948   0.267573   \n",
       "Shape                  49368.0   0.438018   0.060744  0.031816   0.407606   \n",
       "\n",
       "                             50%        75%         max  \n",
       "Length                  1.387500   1.537500    2.037500  \n",
       "Diameter                1.075000   1.200000    1.625000  \n",
       "Height                  0.362500   0.412500    2.825000  \n",
       "Weight                 23.813580  32.290081   80.101512  \n",
       "Shucked Weight          9.979024  14.047177   42.184056  \n",
       "Viscera Weight          4.989512   7.016501   21.545620  \n",
       "Shell Weight            6.945627   9.171063   28.491248  \n",
       "Log Weight              3.170256   3.474760    4.383295  \n",
       "Volume                  0.546563   0.757031    3.347098  \n",
       "Log Volume             -0.604107  -0.278351    1.208094  \n",
       "Density                43.721908  47.202826  601.354532  \n",
       "Diameter_Height_Ratio   2.966667   3.150000   36.333333  \n",
       "Shell_Weight_Ratio      0.288879   0.314268    1.870317  \n",
       "Shape                   0.434024   0.463712    5.181818  "
      ]
     },
     "execution_count": 214,
     "metadata": {},
     "output_type": "execute_result"
    }
   ],
   "source": [
    "data_test = pd.read_csv('data/test.csv', index_col='id')\n",
    "\n",
    "data_test[data_test.Height==0]=data_test.Height.mean()\n",
    "\n",
    "data_test['Log Weight'] = np.log(data_test['Weight'])\n",
    "data_test['Volume'] = data_test['Length']*data_test['Diameter']*data_test['Height']\n",
    "data_test['Log Volume'] = np.log(data_test['Length']*data_test['Diameter']*data_test['Height'])\n",
    "data_test['Density'] = data_test['Weight']/(data_test['Height']*data_test['Length']*data_test['Diameter'])\n",
    "data_test['Diameter_Height_Ratio'] = data_test['Diameter']/data_test['Height']\n",
    "data_test['Shell_Weight_Ratio'] = data_test['Shell Weight']/data_test['Weight']\n",
    "data_test['Shape'] = data_test['Length']*data_test['Height']/(data_test['Diameter']**2)\n",
    "\n",
    "data_test.describe().T"
   ]
  },
  {
   "cell_type": "code",
   "execution_count": 215,
   "id": "44247096",
   "metadata": {
    "ExecuteTime": {
     "end_time": "2023-06-12T02:09:22.544638Z",
     "start_time": "2023-06-12T02:09:22.531236Z"
    }
   },
   "outputs": [
    {
     "data": {
      "text/html": [
       "<style>#sk-container-id-25 {color: black;background-color: white;}#sk-container-id-25 pre{padding: 0;}#sk-container-id-25 div.sk-toggleable {background-color: white;}#sk-container-id-25 label.sk-toggleable__label {cursor: pointer;display: block;width: 100%;margin-bottom: 0;padding: 0.3em;box-sizing: border-box;text-align: center;}#sk-container-id-25 label.sk-toggleable__label-arrow:before {content: \"▸\";float: left;margin-right: 0.25em;color: #696969;}#sk-container-id-25 label.sk-toggleable__label-arrow:hover:before {color: black;}#sk-container-id-25 div.sk-estimator:hover label.sk-toggleable__label-arrow:before {color: black;}#sk-container-id-25 div.sk-toggleable__content {max-height: 0;max-width: 0;overflow: hidden;text-align: left;background-color: #f0f8ff;}#sk-container-id-25 div.sk-toggleable__content pre {margin: 0.2em;color: black;border-radius: 0.25em;background-color: #f0f8ff;}#sk-container-id-25 input.sk-toggleable__control:checked~div.sk-toggleable__content {max-height: 200px;max-width: 100%;overflow: auto;}#sk-container-id-25 input.sk-toggleable__control:checked~label.sk-toggleable__label-arrow:before {content: \"▾\";}#sk-container-id-25 div.sk-estimator input.sk-toggleable__control:checked~label.sk-toggleable__label {background-color: #d4ebff;}#sk-container-id-25 div.sk-label input.sk-toggleable__control:checked~label.sk-toggleable__label {background-color: #d4ebff;}#sk-container-id-25 input.sk-hidden--visually {border: 0;clip: rect(1px 1px 1px 1px);clip: rect(1px, 1px, 1px, 1px);height: 1px;margin: -1px;overflow: hidden;padding: 0;position: absolute;width: 1px;}#sk-container-id-25 div.sk-estimator {font-family: monospace;background-color: #f0f8ff;border: 1px dotted black;border-radius: 0.25em;box-sizing: border-box;margin-bottom: 0.5em;}#sk-container-id-25 div.sk-estimator:hover {background-color: #d4ebff;}#sk-container-id-25 div.sk-parallel-item::after {content: \"\";width: 100%;border-bottom: 1px solid gray;flex-grow: 1;}#sk-container-id-25 div.sk-label:hover label.sk-toggleable__label {background-color: #d4ebff;}#sk-container-id-25 div.sk-serial::before {content: \"\";position: absolute;border-left: 1px solid gray;box-sizing: border-box;top: 0;bottom: 0;left: 50%;z-index: 0;}#sk-container-id-25 div.sk-serial {display: flex;flex-direction: column;align-items: center;background-color: white;padding-right: 0.2em;padding-left: 0.2em;position: relative;}#sk-container-id-25 div.sk-item {position: relative;z-index: 1;}#sk-container-id-25 div.sk-parallel {display: flex;align-items: stretch;justify-content: center;background-color: white;position: relative;}#sk-container-id-25 div.sk-item::before, #sk-container-id-25 div.sk-parallel-item::before {content: \"\";position: absolute;border-left: 1px solid gray;box-sizing: border-box;top: 0;bottom: 0;left: 50%;z-index: -1;}#sk-container-id-25 div.sk-parallel-item {display: flex;flex-direction: column;z-index: 1;position: relative;background-color: white;}#sk-container-id-25 div.sk-parallel-item:first-child::after {align-self: flex-end;width: 50%;}#sk-container-id-25 div.sk-parallel-item:last-child::after {align-self: flex-start;width: 50%;}#sk-container-id-25 div.sk-parallel-item:only-child::after {width: 0;}#sk-container-id-25 div.sk-dashed-wrapped {border: 1px dashed gray;margin: 0 0.4em 0.5em 0.4em;box-sizing: border-box;padding-bottom: 0.4em;background-color: white;}#sk-container-id-25 div.sk-label label {font-family: monospace;font-weight: bold;display: inline-block;line-height: 1.2em;}#sk-container-id-25 div.sk-label-container {text-align: center;}#sk-container-id-25 div.sk-container {/* jupyter's `normalize.less` sets `[hidden] { display: none; }` but bootstrap.min.css set `[hidden] { display: none !important; }` so we also need the `!important` here to be able to override the default hidden behavior on the sphinx rendered scikit-learn.org. See: https://github.com/scikit-learn/scikit-learn/issues/21755 */display: inline-block !important;position: relative;}#sk-container-id-25 div.sk-text-repr-fallback {display: none;}</style><div id=\"sk-container-id-25\" class=\"sk-top-container\"><div class=\"sk-text-repr-fallback\"><pre>XGBRegressor(base_score=None, booster=None, callbacks=None,\n",
       "             colsample_bylevel=None, colsample_bynode=None,\n",
       "             colsample_bytree=0.7836475646244161, early_stopping_rounds=None,\n",
       "             enable_categorical=False, eval_metric=None, feature_types=None,\n",
       "             gamma=None, gpu_id=None, grow_policy=None, importance_type=None,\n",
       "             interaction_constraints=None, learning_rate=0.09850826258298229,\n",
       "             max_bin=None, max_cat_threshold=None, max_cat_to_onehot=None,\n",
       "             max_delta_step=None, max_depth=5, max_leaves=None,\n",
       "             min_child_weight=None, missing=nan, monotone_constraints=None,\n",
       "             n_estimators=300, n_jobs=None, num_parallel_tree=None,\n",
       "             predictor=None, random_state=None, ...)</pre><b>In a Jupyter environment, please rerun this cell to show the HTML representation or trust the notebook. <br />On GitHub, the HTML representation is unable to render, please try loading this page with nbviewer.org.</b></div><div class=\"sk-container\" hidden><div class=\"sk-item\"><div class=\"sk-estimator sk-toggleable\"><input class=\"sk-toggleable__control sk-hidden--visually\" id=\"sk-estimator-id-117\" type=\"checkbox\" checked><label for=\"sk-estimator-id-117\" class=\"sk-toggleable__label sk-toggleable__label-arrow\">XGBRegressor</label><div class=\"sk-toggleable__content\"><pre>XGBRegressor(base_score=None, booster=None, callbacks=None,\n",
       "             colsample_bylevel=None, colsample_bynode=None,\n",
       "             colsample_bytree=0.7836475646244161, early_stopping_rounds=None,\n",
       "             enable_categorical=False, eval_metric=None, feature_types=None,\n",
       "             gamma=None, gpu_id=None, grow_policy=None, importance_type=None,\n",
       "             interaction_constraints=None, learning_rate=0.09850826258298229,\n",
       "             max_bin=None, max_cat_threshold=None, max_cat_to_onehot=None,\n",
       "             max_delta_step=None, max_depth=5, max_leaves=None,\n",
       "             min_child_weight=None, missing=nan, monotone_constraints=None,\n",
       "             n_estimators=300, n_jobs=None, num_parallel_tree=None,\n",
       "             predictor=None, random_state=None, ...)</pre></div></div></div></div></div>"
      ],
      "text/plain": [
       "XGBRegressor(base_score=None, booster=None, callbacks=None,\n",
       "             colsample_bylevel=None, colsample_bynode=None,\n",
       "             colsample_bytree=0.7836475646244161, early_stopping_rounds=None,\n",
       "             enable_categorical=False, eval_metric=None, feature_types=None,\n",
       "             gamma=None, gpu_id=None, grow_policy=None, importance_type=None,\n",
       "             interaction_constraints=None, learning_rate=0.09850826258298229,\n",
       "             max_bin=None, max_cat_threshold=None, max_cat_to_onehot=None,\n",
       "             max_delta_step=None, max_depth=5, max_leaves=None,\n",
       "             min_child_weight=None, missing=nan, monotone_constraints=None,\n",
       "             n_estimators=300, n_jobs=None, num_parallel_tree=None,\n",
       "             predictor=None, random_state=None, ...)"
      ]
     },
     "execution_count": 215,
     "metadata": {},
     "output_type": "execute_result"
    }
   ],
   "source": [
    "best_xgb_model"
   ]
  },
  {
   "cell_type": "code",
   "execution_count": 216,
   "id": "dbc1f122",
   "metadata": {
    "ExecuteTime": {
     "end_time": "2023-06-12T02:09:36.923870Z",
     "start_time": "2023-06-12T02:09:32.723902Z"
    },
    "code_folding": []
   },
   "outputs": [],
   "source": [
    "# Assign the best model\n",
    "best_model = best_svm_reg_model\n",
    "best_model = best_xgb_model\n",
    "\n",
    "# Build the tuned pipeline\n",
    "tuned_pipeline = make_pipeline(\n",
    "    preproc_pipeline, \n",
    "    best_model\n",
    ")\n",
    "\n",
    "# Export the best prediction\n",
    "result_name = f'{type(best_model).__name__}_{round(best_value,5)}'\n",
    "file_name_pickle = f'results/{result_name}.pickle'\n",
    "file_name_csv = f'results/{result_name}.csv'\n",
    "\n",
    "tuned_pipeline.fit(X, y)\n",
    "y_pred=tuned_pipeline.predict(data_test)\n",
    "y_pred=np.round(y_pred, 0)\n",
    "df=pd.DataFrame(y_pred, index=data_test.index, columns=[target])\n",
    "\n",
    "df.to_csv(file_name_csv, index = True)\n",
    "\n",
    "# Serialize the pipeline\n",
    "import pickle\n",
    "file_name_pickle = f'results/{result_name}.pickle'\n",
    "with open(file_name_pickle, 'wb') as file:\n",
    "    pickle.dump(tuned_pipeline, file)"
   ]
  }
 ],
 "metadata": {
  "kernelspec": {
   "display_name": "Python 3 (ipykernel)",
   "language": "python",
   "name": "python3"
  },
  "language_info": {
   "codemirror_mode": {
    "name": "ipython",
    "version": 3
   },
   "file_extension": ".py",
   "mimetype": "text/x-python",
   "name": "python",
   "nbconvert_exporter": "python",
   "pygments_lexer": "ipython3",
   "version": "3.10.11"
  },
  "toc": {
   "base_numbering": 1,
   "nav_menu": {},
   "number_sections": true,
   "sideBar": true,
   "skip_h1_title": false,
   "title_cell": "Table of Contents",
   "title_sidebar": "Contents",
   "toc_cell": false,
   "toc_position": {
    "height": "calc(100% - 180px)",
    "left": "10px",
    "top": "150px",
    "width": "330px"
   },
   "toc_section_display": true,
   "toc_window_display": true
  }
 },
 "nbformat": 4,
 "nbformat_minor": 5
}
